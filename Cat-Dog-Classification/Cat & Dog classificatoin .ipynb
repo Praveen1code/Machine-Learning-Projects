{
 "cells": [
  {
   "cell_type": "code",
   "execution_count": 146,
   "metadata": {},
   "outputs": [],
   "source": [
    "#importing Keras, Library for deep learning \n",
    "from keras.models import Sequential\n",
    "from keras.layers.core import Dense, Dropout, Activation, Flatten\n",
    "from keras.layers.convolutional import Convolution2D, MaxPooling2D\n",
    "from keras.utils import np_utils\n",
    "from keras.preprocessing.image import  img_to_array\n",
    "from keras import backend as K\n",
    "# Fix for Issue - #3 https://github.com/shreyans29/thesemicolon/issues/3\n",
    "K.set_image_dim_ordering('th')\n",
    "import matplotlib.pyplot as plt \n",
    "%matplotlib inline\n",
    "import numpy as np\n"
   ]
  },
  {
   "cell_type": "code",
   "execution_count": 66,
   "metadata": {},
   "outputs": [],
   "source": [
    "# Image manipulations and arranging data\n",
    "import os\n",
    "from PIL import Image\n",
    "import theano\n",
    "theano.config.optimizer=\"None\"\n",
    "#Sklearn to modify the data\n",
    "\n",
    "from sklearn.cross_validation import train_test_split\n",
    "os.chdir(\"C:\\\\Users\\\\praveenprajapati\\\\Untitled Folder 10\");"
   ]
  },
  {
   "cell_type": "code",
   "execution_count": 67,
   "metadata": {},
   "outputs": [
    {
     "name": "stdout",
     "output_type": "stream",
     "text": [
      "train\n"
     ]
    }
   ],
   "source": [
    "# input image dimensions\n",
    "m,n = 50,50\n",
    "\n",
    "path1=\"input\";\n",
    "path2=\"data\";\n",
    "\n",
    "classes=os.listdir(path2)\n",
    "x=[]\n",
    "y=[]\n",
    "for fol in classes:\n",
    "    print(fol)\n",
    "    imgfiles=os.listdir(path2+'\\\\'+fol);\n",
    "    for img in imgfiles:\n",
    "        im=Image.open(path2+'\\\\'+fol+'\\\\'+img);\n",
    "        im=im.convert(mode='RGB')\n",
    "        imrs=im.resize((m,n))\n",
    "        imrs=img_to_array(imrs)/255;\n",
    "        imrs=imrs.transpose(2,0,1);\n",
    "        imrs=imrs.reshape(3,m,n);\n",
    "        x.append(imrs)\n",
    "        if img[0]=='c':\n",
    "            y.append('cat')\n",
    "        else :\n",
    "            y.append('dog') \n",
    "            \n",
    "        "
   ]
  },
  {
   "cell_type": "code",
   "execution_count": 68,
   "metadata": {},
   "outputs": [],
   "source": [
    "\n",
    "x=np.array(x);\n",
    "y=np.array(y);"
   ]
  },
  {
   "cell_type": "code",
   "execution_count": 69,
   "metadata": {},
   "outputs": [
    {
     "data": {
      "text/plain": [
       "array(['cat', 'cat', 'cat', ..., 'dog', 'dog', 'dog'], dtype='<U3')"
      ]
     },
     "execution_count": 69,
     "metadata": {},
     "output_type": "execute_result"
    }
   ],
   "source": [
    "y\n"
   ]
  },
  {
   "cell_type": "code",
   "execution_count": 70,
   "metadata": {},
   "outputs": [
    {
     "data": {
      "text/plain": [
       "(3, 50, 50)"
      ]
     },
     "execution_count": 70,
     "metadata": {},
     "output_type": "execute_result"
    }
   ],
   "source": [
    "x[0].shape\n"
   ]
  },
  {
   "cell_type": "code",
   "execution_count": 144,
   "metadata": {},
   "outputs": [
    {
     "ename": "NameError",
     "evalue": "name 'image_preloader' is not defined",
     "output_type": "error",
     "traceback": [
      "\u001b[1;31m---------------------------------------------------------------------------\u001b[0m",
      "\u001b[1;31mNameError\u001b[0m                                 Traceback (most recent call last)",
      "\u001b[1;32m<ipython-input-144-a7d513692813>\u001b[0m in \u001b[0;36m<module>\u001b[1;34m()\u001b[0m\n\u001b[1;32m----> 1\u001b[1;33m \u001b[0mX_train\u001b[0m\u001b[1;33m,\u001b[0m \u001b[0mY_train\u001b[0m \u001b[1;33m=\u001b[0m \u001b[0mimage_preloader\u001b[0m\u001b[1;33m(\u001b[0m\u001b[0mx\u001b[0m\u001b[1;33m,\u001b[0m \u001b[0mimage_shape\u001b[0m\u001b[1;33m=\u001b[0m\u001b[1;33m(\u001b[0m\u001b[1;36m50\u001b[0m\u001b[1;33m,\u001b[0m\u001b[1;36m50\u001b[0m\u001b[1;33m)\u001b[0m\u001b[1;33m,\u001b[0m\u001b[0mmode\u001b[0m\u001b[1;33m=\u001b[0m\u001b[1;34m'file'\u001b[0m\u001b[1;33m,\u001b[0m \u001b[0mcategorical_labels\u001b[0m\u001b[1;33m=\u001b[0m\u001b[1;32mTrue\u001b[0m\u001b[1;33m,\u001b[0m\u001b[0mnormalize\u001b[0m\u001b[1;33m=\u001b[0m\u001b[1;32mTrue\u001b[0m\u001b[1;33m)\u001b[0m\u001b[1;33m\u001b[0m\u001b[0m\n\u001b[0m",
      "\u001b[1;31mNameError\u001b[0m: name 'image_preloader' is not defined"
     ]
    }
   ],
   "source": [
    "X_train, Y_train = image_preloader(x, image_shape=(50,50),mode='file', categorical_labels=True,normalize=True)"
   ]
  },
  {
   "cell_type": "code",
   "execution_count": 154,
   "metadata": {},
   "outputs": [
    {
     "data": {
      "image/png": "[encoded data removed]",
      "text/plain": [
       "<matplotlib.figure.Figure at 0x2582fd899e8>"
      ]
     },
     "metadata": {},
     "output_type": "display_data"
    }
   ],
   "source": [
    "plt.imshow(x[0][0])\n",
    "plt.axis('off')\n",
    "plt.title('Sample image with label {}'.format(y[0][0]))\n",
    "plt.show()\n"
   ]
  },
  {
   "cell_type": "code",
   "execution_count": null,
   "metadata": {},
   "outputs": [],
   "source": []
  },
  {
   "cell_type": "code",
   "execution_count": null,
   "metadata": {},
   "outputs": [],
   "source": [
    "x[0][0][1]"
   ]
  },
  {
   "cell_type": "code",
   "execution_count": null,
   "metadata": {
    "scrolled": true
   },
   "outputs": [],
   "source": [
    "x[0][0][2]"
   ]
  },
  {
   "cell_type": "code",
   "execution_count": null,
   "metadata": {},
   "outputs": [],
   "source": [
    "#Convert train datset to (num_images, img_rows, img_cols) format \n",
    "#print(x[0].shape)\n",
    "#for i in range(0,3):\n",
    "    #plt.subplot(330 + (i+1))\n",
    "   # plt.imshow(x[0][i], cmap=plt.get_cmap('gray'))\n",
    "  #  plt.title(x[0][i]);\n",
    "    \n",
    "    "
   ]
  },
  {
   "cell_type": "code",
   "execution_count": 92,
   "metadata": {},
   "outputs": [],
   "source": [
    "x_train, x_test, y_train, y_test= train_test_split(x,y,test_size=0.2,random_state=4)"
   ]
  },
  {
   "cell_type": "code",
   "execution_count": 94,
   "metadata": {},
   "outputs": [],
   "source": [
    "nb_classes=2"
   ]
  },
  {
   "cell_type": "code",
   "execution_count": 96,
   "metadata": {},
   "outputs": [],
   "source": [
    "uniques, id_train=np.unique(y_train,return_inverse=True)\n",
    "Y_train=np_utils.to_categorical(id_train,nb_classes)\n",
    "uniques, id_test=np.unique(y_test,return_inverse=True)\n",
    "Y_test=np_utils.to_categorical(id_test,nb_classes)\n"
   ]
  },
  {
   "cell_type": "code",
   "execution_count": 98,
   "metadata": {},
   "outputs": [
    {
     "name": "stderr",
     "output_type": "stream",
     "text": [
      "C:\\Users\\praveenprajapati\\Anaconda3\\lib\\site-packages\\ipykernel_launcher.py:2: UserWarning: Update your `Conv2D` call to the Keras 2 API: `Conv2D(32, (3, 3), input_shape=(3, 50, 50..., padding=\"same\")`\n",
      "  \n",
      "C:\\Users\\praveenprajapati\\Anaconda3\\lib\\site-packages\\ipykernel_launcher.py:4: UserWarning: Update your `Conv2D` call to the Keras 2 API: `Conv2D(32, (3, 3))`\n",
      "  after removing the cwd from sys.path.\n"
     ]
    }
   ],
   "source": [
    "model= Sequential()\n",
    "model.add(Convolution2D(nb_filters,nb_conv,nb_conv,border_mode='same',input_shape=x_train.shape[1:]))\n",
    "model.add(Activation('relu'));\n",
    "model.add(Convolution2D(nb_filters,nb_conv,nb_conv));\n",
    "model.add(Activation('relu'));\n",
    "model.add(MaxPooling2D(pool_size=(nb_pool,nb_pool)));\n",
    "model.add(Dropout(0.5));\n",
    "model.add(Flatten());\n",
    "model.add(Dense(128));\n",
    "model.add(Dropout(0.5));\n",
    "model.add(Dense(nb_classes));\n",
    "model.add(Activation('softmax'));\n",
    "model.compile(loss='categorical_crossentropy',optimizer='adadelta',metrics=['accuracy'])"
   ]
  },
  {
   "cell_type": "code",
   "execution_count": null,
   "metadata": {},
   "outputs": [],
   "source": []
  },
  {
   "cell_type": "code",
   "execution_count": 99,
   "metadata": {
    "scrolled": true
   },
   "outputs": [
    {
     "name": "stderr",
     "output_type": "stream",
     "text": [
      "C:\\Users\\praveenprajapati\\Anaconda3\\lib\\site-packages\\ipykernel_launcher.py:3: UserWarning: The `nb_epoch` argument in `fit` has been renamed `epochs`.\n",
      "  This is separate from the ipykernel package so we can avoid doing imports until\n"
     ]
    },
    {
     "name": "stdout",
     "output_type": "stream",
     "text": [
      "Train on 20000 samples, validate on 5000 samples\n",
      "Epoch 1/5\n",
      "20000/20000 [==============================] - 2852s 143ms/step - loss: 0.7061 - acc: 0.5167 - val_loss: 0.6815 - val_acc: 0.5826\n",
      "Epoch 2/5\n",
      "20000/20000 [==============================] - 4724s 236ms/step - loss: 0.6908 - acc: 0.5418 - val_loss: 0.6689 - val_acc: 0.5508\n",
      "Epoch 3/5\n",
      "20000/20000 [==============================] - 2432s 122ms/step - loss: 0.6856 - acc: 0.5496 - val_loss: 0.6500 - val_acc: 0.6108\n",
      "Epoch 4/5\n",
      "20000/20000 [==============================] - 26281s 1s/step - loss: 0.6819 - acc: 0.5671 - val_loss: 0.6523 - val_acc: 0.5894\n",
      "Epoch 5/5\n",
      "20000/20000 [==============================] - 3854s 193ms/step - loss: 0.6762 - acc: 0.5807 - val_loss: 0.6474 - val_acc: 0.6036\n"
     ]
    },
    {
     "data": {
      "text/plain": [
       "<keras.callbacks.History at 0x258f854f390>"
      ]
     },
     "execution_count": 99,
     "metadata": {},
     "output_type": "execute_result"
    }
   ],
   "source": [
    "nb_epoch=5;\n",
    "batch_size=5;\n",
    "model.fit(x_train,Y_train,batch_size=batch_size,nb_epoch=nb_epoch,verbose=1,validation_data=(x_test, Y_test))\n"
   ]
  },
  {
   "cell_type": "code",
   "execution_count": 151,
   "metadata": {},
   "outputs": [
    {
     "name": "stdout",
     "output_type": "stream",
     "text": [
      "10200.jpg\n",
      "11.jpg\n",
      "23.jpg\n",
      "31.jpg\n",
      "35.jpg\n"
     ]
    }
   ],
   "source": [
    "\n",
    "\n",
    "files=os.listdir(path1);\n",
    "x=[]\n",
    "for img in files:\n",
    "    print(img)\n",
    "    im = Image.open(path1 + '\\\\'+img);\n",
    "    imrs = im.resize((m,n))\n",
    "    imrs=img_to_array(imrs)/255;\n",
    "    imrs=imrs.transpose(2,0,1);\n",
    "    imrs=imrs.reshape(3,m,n);\n",
    "    x.append(imrs)"
   ]
  },
  {
   "cell_type": "code",
   "execution_count": 133,
   "metadata": {},
   "outputs": [],
   "source": [
    "x=np.array(x);\n",
    "predictions = model.predict(x)"
   ]
  },
  {
   "cell_type": "code",
   "execution_count": 152,
   "metadata": {
    "scrolled": false
   },
   "outputs": [
    {
     "name": "stdout",
     "output_type": "stream",
     "text": [
      "[[[0.5764706  0.5647059  0.6039216  ... 0.654902   0.65882355 0.61960787]\n",
      "  [0.53333336 0.5254902  0.5568628  ... 0.6156863  0.61960787 0.5803922 ]\n",
      "  [0.5176471  0.4862745  0.5568628  ... 0.6509804  0.654902   0.6156863 ]\n",
      "  ...\n",
      "  [0.5568628  0.5647059  0.5686275  ... 0.8        0.7882353  0.7647059 ]\n",
      "  [0.6431373  0.64705884 0.63529414 ... 0.8        0.8        0.7921569 ]\n",
      "  [0.57254905 0.5764706  0.5921569  ... 0.7490196  0.7490196  0.7411765 ]]\n",
      "\n",
      " [[0.5568628  0.56078434 0.5686275  ... 0.7882353  0.7882353  0.78039217]\n",
      "  [0.64705884 0.64705884 0.654902   ... 0.7607843  0.75686276 0.78431374]\n",
      "  [0.5764706  0.5764706  0.58431375 ... 0.70980394 0.7058824  0.73333335]\n",
      "  ...\n",
      "  [0.58431375 0.5921569  0.5921569  ... 0.7176471  0.7254902  0.7294118 ]\n",
      "  [0.59607846 0.59607846 0.6        ... 0.73333335 0.74509805 0.7490196 ]\n",
      "  [0.67058825 0.654902   0.6784314  ... 0.80784315 0.78431374 0.8       ]]\n",
      "\n",
      " [[0.58431375 0.5921569  0.5921569  ... 0.7607843  0.7490196  0.7647059 ]\n",
      "  [0.59607846 0.59607846 0.6        ... 0.7764706  0.7607843  0.7764706 ]\n",
      "  [0.6666667  0.6666667  0.6745098  ... 0.78431374 0.80784315 0.80784315]\n",
      "  ...\n",
      "  [0.62352943 0.60784316 0.6117647  ... 0.6313726  0.63529414 0.6156863 ]\n",
      "  [0.5764706  0.5882353  0.5882353  ... 0.57254905 0.5529412  0.5568628 ]\n",
      "  [0.5764706  0.5764706  0.6039216  ... 0.5921569  0.5803922  0.5764706 ]]]\n"
     ]
    }
   ],
   "source": [
    "print(x[0])"
   ]
  },
  {
   "cell_type": "code",
   "execution_count": 134,
   "metadata": {},
   "outputs": [
    {
     "name": "stdout",
     "output_type": "stream",
     "text": [
      "[[0.55782396 0.44217604]\n",
      " [0.58490163 0.41509834]\n",
      " [0.5414636  0.45853642]\n",
      " [0.57111615 0.42888382]\n",
      " [0.54964453 0.45035547]]\n"
     ]
    }
   ],
   "source": [
    "print(predictions)"
   ]
  },
  {
   "cell_type": "code",
   "execution_count": 139,
   "metadata": {},
   "outputs": [],
   "source": [
    "model.save('Untitled Folder 10')"
   ]
  },
  {
   "cell_type": "code",
   "execution_count": null,
   "metadata": {},
   "outputs": [],
   "source": []
  }
 ],
 "metadata": {
  "kernelspec": {
   "display_name": "Python 3",
   "language": "python",
   "name": "python3"
  },
  "language_info": {
   "codemirror_mode": {
    "name": "ipython",
    "version": 3
   },
   "file_extension": ".py",
   "mimetype": "text/x-python",
   "name": "python",
   "nbconvert_exporter": "python",
   "pygments_lexer": "ipython3",
   "version": "3.6.4"
  }
 },
 "nbformat": 4,
 "nbformat_minor": 2
}
