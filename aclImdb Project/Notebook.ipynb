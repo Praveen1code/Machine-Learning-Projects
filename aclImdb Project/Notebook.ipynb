{
 "cells": [
  {
   "cell_type": "code",
   "execution_count": 1,
   "metadata": {},
   "outputs": [
    {
     "data": {
      "text/html": [
       "<script type=\"text/javascript\">window.PlotlyConfig = {MathJaxConfig: 'local'};</script><script type=\"text/javascript\">if (window.MathJax) {MathJax.Hub.Config({SVG: {font: \"STIX-Web\"}});}</script><script>requirejs.config({paths: { 'plotly': ['https://cdn.plot.ly/plotly-latest.min']},});if(!window._Plotly) {require(['plotly'],function(plotly) {window._Plotly=plotly;});}</script>"
      ],
      "text/vnd.plotly.v1+html": [
       "<script type=\"text/javascript\">window.PlotlyConfig = {MathJaxConfig: 'local'};</script><script type=\"text/javascript\">if (window.MathJax) {MathJax.Hub.Config({SVG: {font: \"STIX-Web\"}});}</script><script>requirejs.config({paths: { 'plotly': ['https://cdn.plot.ly/plotly-latest.min']},});if(!window._Plotly) {require(['plotly'],function(plotly) {window._Plotly=plotly;});}</script>"
      ]
     },
     "metadata": {},
     "output_type": "display_data"
    }
   ],
   "source": [
    "import re\n",
    "import os\n",
    "import pandas as pd\n",
    "import numpy as np\n",
    "import plotly.offline as py\n",
    "import plotly.graph_objs as go\n",
    "py.init_notebook_mode(connected=True)\n",
    "import nltk\n",
    "from nltk.stem.porter import PorterStemmer\n",
    "from nltk.stem.snowball import SnowballStemmer\n",
    "from nltk.corpus import words\n",
    "from nltk.corpus import wordnet \n",
    "allEnglishWords = words.words() + [w for w in wordnet.words()]\n",
    "allEnglishWords = np.unique([x.lower() for x in allEnglishWords])\n",
    "from IPython.display import HTML\n",
    "from sklearn.feature_extraction.text import TfidfVectorizer\n",
    "from sklearn.feature_extraction import text \n",
    "from sklearn.decomposition import PCA\n",
    "import scikitplot.plotters as skplt\n",
    "import warnings\n",
    "warnings.filterwarnings('ignore')\n",
    "import matplotlib.pyplot as plt\n",
    "import scikitplot.plotters as skplt"
   ]
  },
  {
   "cell_type": "markdown",
   "metadata": {},
   "source": [
    "## Loading the Data Set"
   ]
  },
  {
   "cell_type": "code",
   "execution_count": 2,
   "metadata": {},
   "outputs": [],
   "source": [
    "path = \"aclImdb/\""
   ]
  },
  {
   "cell_type": "code",
   "execution_count": 3,
   "metadata": {},
   "outputs": [],
   "source": [
    "positiveFiles = [x for x in os.listdir(path+\"train/pos/\") if x.endswith(\".txt\")]\n",
    "negativeFiles = [x for x in os.listdir(path+\"train/neg/\") if x.endswith(\".txt\")]"
   ]
  },
  {
   "cell_type": "code",
   "execution_count": 4,
   "metadata": {},
   "outputs": [],
   "source": [
    "pos_Reviews, neg_Reviews= [], []"
   ]
  },
  {
   "cell_type": "code",
   "execution_count": 5,
   "metadata": {},
   "outputs": [],
   "source": [
    "for pfile in positiveFiles:\n",
    "    with open(path+\"train/pos/\"+pfile, encoding=\"latin1\") as f:\n",
    "        pos_Reviews.append(f.read())\n",
    "for nfile in negativeFiles:\n",
    "    with open(path+\"train/neg/\"+nfile, encoding=\"latin1\") as f:\n",
    "        neg_Reviews.append(f.read())\n"
   ]
  },
  {
   "cell_type": "markdown",
   "metadata": {},
   "source": [
    "## Merging the Pos and Neg tweets:"
   ]
  },
  {
   "cell_type": "code",
   "execution_count": 6,
   "metadata": {},
   "outputs": [],
   "source": [
    "reviews = pd.concat([\n",
    "    pd.DataFrame({\"review\":pos_Reviews[:3500], \"label\":1}),\n",
    "    pd.DataFrame({\"review\":neg_Reviews[:3500], \"label\":0}),\n",
    "    ], ignore_index=True).sample(frac=1, random_state=1)\n"
   ]
  },
  {
   "cell_type": "code",
   "execution_count": 7,
   "metadata": {},
   "outputs": [],
   "source": [
    "reviews = reviews[[\"review\", \"label\"]].sample(frac=1, random_state=1)\n"
   ]
  },
  {
   "cell_type": "code",
   "execution_count": 8,
   "metadata": {},
   "outputs": [
    {
     "data": {
      "text/html": [
       "<div>\n",
       "<style scoped>\n",
       "    .dataframe tbody tr th:only-of-type {\n",
       "        vertical-align: middle;\n",
       "    }\n",
       "\n",
       "    .dataframe tbody tr th {\n",
       "        vertical-align: top;\n",
       "    }\n",
       "\n",
       "    .dataframe thead th {\n",
       "        text-align: right;\n",
       "    }\n",
       "</style>\n",
       "<table border=\"1\" class=\"dataframe\">\n",
       "  <thead>\n",
       "    <tr style=\"text-align: right;\">\n",
       "      <th></th>\n",
       "      <th>review</th>\n",
       "      <th>label</th>\n",
       "    </tr>\n",
       "  </thead>\n",
       "  <tbody>\n",
       "    <tr>\n",
       "      <th>2718</th>\n",
       "      <td>There's a great deal of material from the Mode...</td>\n",
       "      <td>1</td>\n",
       "    </tr>\n",
       "    <tr>\n",
       "      <th>170</th>\n",
       "      <td>I caught this film at a test screening. Was ve...</td>\n",
       "      <td>1</td>\n",
       "    </tr>\n",
       "    <tr>\n",
       "      <th>3972</th>\n",
       "      <td>This movie is great, mind you - but only in th...</td>\n",
       "      <td>0</td>\n",
       "    </tr>\n",
       "    <tr>\n",
       "      <th>5453</th>\n",
       "      <td>For those looking for a sequel for the fine So...</td>\n",
       "      <td>0</td>\n",
       "    </tr>\n",
       "    <tr>\n",
       "      <th>1955</th>\n",
       "      <td>Why did this movie fail commercially? It's got...</td>\n",
       "      <td>1</td>\n",
       "    </tr>\n",
       "    <tr>\n",
       "      <th>946</th>\n",
       "      <td>Hello, I was alanrickmaniac. I'm a Still Crazy...</td>\n",
       "      <td>1</td>\n",
       "    </tr>\n",
       "    <tr>\n",
       "      <th>4141</th>\n",
       "      <td>Horror fans (I'm speaking to the over 12's, al...</td>\n",
       "      <td>0</td>\n",
       "    </tr>\n",
       "    <tr>\n",
       "      <th>4440</th>\n",
       "      <td>The directors cut version, which was the one I...</td>\n",
       "      <td>0</td>\n",
       "    </tr>\n",
       "    <tr>\n",
       "      <th>3627</th>\n",
       "      <td>This is one of the worst films ever. I like ch...</td>\n",
       "      <td>0</td>\n",
       "    </tr>\n",
       "    <tr>\n",
       "      <th>1348</th>\n",
       "      <td>This second film is just as interesting as the...</td>\n",
       "      <td>1</td>\n",
       "    </tr>\n",
       "  </tbody>\n",
       "</table>\n",
       "</div>"
      ],
      "text/plain": [
       "                                                 review  label\n",
       "2718  There's a great deal of material from the Mode...      1\n",
       "170   I caught this film at a test screening. Was ve...      1\n",
       "3972  This movie is great, mind you - but only in th...      0\n",
       "5453  For those looking for a sequel for the fine So...      0\n",
       "1955  Why did this movie fail commercially? It's got...      1\n",
       "946   Hello, I was alanrickmaniac. I'm a Still Crazy...      1\n",
       "4141  Horror fans (I'm speaking to the over 12's, al...      0\n",
       "4440  The directors cut version, which was the one I...      0\n",
       "3627  This is one of the worst films ever. I like ch...      0\n",
       "1348  This second film is just as interesting as the...      1"
      ]
     },
     "execution_count": 8,
     "metadata": {},
     "output_type": "execute_result"
    }
   ],
   "source": [
    "reviews.head(10)"
   ]
  },
  {
   "cell_type": "markdown",
   "metadata": {},
   "source": [
    "## Seperating the Train and validation data set"
   ]
  },
  {
   "cell_type": "code",
   "execution_count": 9,
   "metadata": {},
   "outputs": [],
   "source": [
    "train = reviews[reviews.label!=-1].sample(frac=0.7143, random_state=1)\n",
    "valid = reviews[reviews.label!=-1].drop(train.index)"
   ]
  },
  {
   "cell_type": "code",
   "execution_count": 10,
   "metadata": {},
   "outputs": [
    {
     "name": "stdout",
     "output_type": "stream",
     "text": [
      "(5000, 2)\n",
      "(2000, 2)\n"
     ]
    }
   ],
   "source": [
    "print(train.shape)\n",
    "print(valid.shape)\n"
   ]
  },
  {
   "cell_type": "code",
   "execution_count": 11,
   "metadata": {},
   "outputs": [
    {
     "data": {
      "text/html": [
       "<div>\n",
       "<style scoped>\n",
       "    .dataframe tbody tr th:only-of-type {\n",
       "        vertical-align: middle;\n",
       "    }\n",
       "\n",
       "    .dataframe tbody tr th {\n",
       "        vertical-align: top;\n",
       "    }\n",
       "\n",
       "    .dataframe thead th {\n",
       "        text-align: right;\n",
       "    }\n",
       "</style>\n",
       "<table border=\"1\" class=\"dataframe\">\n",
       "  <thead>\n",
       "    <tr style=\"text-align: right;\">\n",
       "      <th></th>\n",
       "      <th>review</th>\n",
       "      <th>label</th>\n",
       "    </tr>\n",
       "  </thead>\n",
       "  <tbody>\n",
       "    <tr>\n",
       "      <th>5480</th>\n",
       "      <td>What a crappy movie! The worst of the worst! T...</td>\n",
       "      <td>0</td>\n",
       "    </tr>\n",
       "    <tr>\n",
       "      <th>5305</th>\n",
       "      <td>Except for the Brady Variety Hour, this was so...</td>\n",
       "      <td>0</td>\n",
       "    </tr>\n",
       "    <tr>\n",
       "      <th>2315</th>\n",
       "      <td>A toothsome little potboiler whose 65-minute l...</td>\n",
       "      <td>1</td>\n",
       "    </tr>\n",
       "    <tr>\n",
       "      <th>6825</th>\n",
       "      <td>Contrary to its title, this film offers no spi...</td>\n",
       "      <td>0</td>\n",
       "    </tr>\n",
       "    <tr>\n",
       "      <th>995</th>\n",
       "      <td>What would you expect from a film titled 'Surv...</td>\n",
       "      <td>1</td>\n",
       "    </tr>\n",
       "    <tr>\n",
       "      <th>4087</th>\n",
       "      <td>1st watched 12/6/2009 - 4 out of 10 (Dir-Walte...</td>\n",
       "      <td>0</td>\n",
       "    </tr>\n",
       "    <tr>\n",
       "      <th>6534</th>\n",
       "      <td>Did they use their entire budget paying the po...</td>\n",
       "      <td>0</td>\n",
       "    </tr>\n",
       "    <tr>\n",
       "      <th>6055</th>\n",
       "      <td>I would put this at the top of my list of film...</td>\n",
       "      <td>0</td>\n",
       "    </tr>\n",
       "    <tr>\n",
       "      <th>5391</th>\n",
       "      <td>No, I haven't read the Stephen King novel \"Thi...</td>\n",
       "      <td>0</td>\n",
       "    </tr>\n",
       "    <tr>\n",
       "      <th>1586</th>\n",
       "      <td>In reflecting on this movie I can think of two...</td>\n",
       "      <td>1</td>\n",
       "    </tr>\n",
       "  </tbody>\n",
       "</table>\n",
       "</div>"
      ],
      "text/plain": [
       "                                                 review  label\n",
       "5480  What a crappy movie! The worst of the worst! T...      0\n",
       "5305  Except for the Brady Variety Hour, this was so...      0\n",
       "2315  A toothsome little potboiler whose 65-minute l...      1\n",
       "6825  Contrary to its title, this film offers no spi...      0\n",
       "995   What would you expect from a film titled 'Surv...      1\n",
       "4087  1st watched 12/6/2009 - 4 out of 10 (Dir-Walte...      0\n",
       "6534  Did they use their entire budget paying the po...      0\n",
       "6055  I would put this at the top of my list of film...      0\n",
       "5391  No, I haven't read the Stephen King novel \"Thi...      0\n",
       "1586  In reflecting on this movie I can think of two...      1"
      ]
     },
     "execution_count": 11,
     "metadata": {},
     "output_type": "execute_result"
    }
   ],
   "source": [
    "train.head(10)"
   ]
  },
  {
   "cell_type": "code",
   "execution_count": 12,
   "metadata": {},
   "outputs": [
    {
     "data": {
      "text/html": [
       "<div>\n",
       "<style scoped>\n",
       "    .dataframe tbody tr th:only-of-type {\n",
       "        vertical-align: middle;\n",
       "    }\n",
       "\n",
       "    .dataframe tbody tr th {\n",
       "        vertical-align: top;\n",
       "    }\n",
       "\n",
       "    .dataframe thead th {\n",
       "        text-align: right;\n",
       "    }\n",
       "</style>\n",
       "<table border=\"1\" class=\"dataframe\">\n",
       "  <thead>\n",
       "    <tr style=\"text-align: right;\">\n",
       "      <th></th>\n",
       "      <th>review</th>\n",
       "      <th>label</th>\n",
       "    </tr>\n",
       "  </thead>\n",
       "  <tbody>\n",
       "    <tr>\n",
       "      <th>2718</th>\n",
       "      <td>There's a great deal of material from the Mode...</td>\n",
       "      <td>1</td>\n",
       "    </tr>\n",
       "    <tr>\n",
       "      <th>3972</th>\n",
       "      <td>This movie is great, mind you - but only in th...</td>\n",
       "      <td>0</td>\n",
       "    </tr>\n",
       "    <tr>\n",
       "      <th>3627</th>\n",
       "      <td>This is one of the worst films ever. I like ch...</td>\n",
       "      <td>0</td>\n",
       "    </tr>\n",
       "    <tr>\n",
       "      <th>3720</th>\n",
       "      <td>People, please don't bother to watch this movi...</td>\n",
       "      <td>0</td>\n",
       "    </tr>\n",
       "    <tr>\n",
       "      <th>6399</th>\n",
       "      <td>here was no effort put into Valentine to preve...</td>\n",
       "      <td>0</td>\n",
       "    </tr>\n",
       "    <tr>\n",
       "      <th>4338</th>\n",
       "      <td>I can't really think of any redeeming features...</td>\n",
       "      <td>0</td>\n",
       "    </tr>\n",
       "    <tr>\n",
       "      <th>2080</th>\n",
       "      <td>In 1983, Director Brian De Palma set out to ma...</td>\n",
       "      <td>1</td>\n",
       "    </tr>\n",
       "    <tr>\n",
       "      <th>5630</th>\n",
       "      <td>This seemed to be a good movie, I thought it w...</td>\n",
       "      <td>0</td>\n",
       "    </tr>\n",
       "    <tr>\n",
       "      <th>4240</th>\n",
       "      <td>Don't get fooled with all the big names like B...</td>\n",
       "      <td>0</td>\n",
       "    </tr>\n",
       "    <tr>\n",
       "      <th>254</th>\n",
       "      <td>YETI deserves the 8 star rating because it is ...</td>\n",
       "      <td>1</td>\n",
       "    </tr>\n",
       "  </tbody>\n",
       "</table>\n",
       "</div>"
      ],
      "text/plain": [
       "                                                 review  label\n",
       "2718  There's a great deal of material from the Mode...      1\n",
       "3972  This movie is great, mind you - but only in th...      0\n",
       "3627  This is one of the worst films ever. I like ch...      0\n",
       "3720  People, please don't bother to watch this movi...      0\n",
       "6399  here was no effort put into Valentine to preve...      0\n",
       "4338  I can't really think of any redeeming features...      0\n",
       "2080  In 1983, Director Brian De Palma set out to ma...      1\n",
       "5630  This seemed to be a good movie, I thought it w...      0\n",
       "4240  Don't get fooled with all the big names like B...      0\n",
       "254   YETI deserves the 8 star rating because it is ...      1"
      ]
     },
     "execution_count": 12,
     "metadata": {},
     "output_type": "execute_result"
    }
   ],
   "source": [
    "valid.head(10)"
   ]
  },
  {
   "cell_type": "markdown",
   "metadata": {},
   "source": [
    "## PreProcessing of Text Data set:"
   ]
  },
  {
   "cell_type": "code",
   "execution_count": 14,
   "metadata": {},
   "outputs": [],
   "source": [
    "class Preprocessor:\n",
    "    \n",
    "    def __init__(self, alpha=True, lower=True, stemmer=True, english=False):\n",
    "        self.alpha = alpha\n",
    "        self.lower = lower\n",
    "        self.stemmer = stemmer\n",
    "        self.english = english\n",
    "        \n",
    "        self.uniqueWords = None\n",
    "        self.uniqueStems = None\n",
    "        \n",
    "    def fit(self, texts):\n",
    "        texts = self._clean(texts)\n",
    "\n",
    "        allwords = pd.DataFrame({\"word\": np.concatenate(texts.apply(lambda x: x.split()).values)})\n",
    "        self.uniqueWords = allwords.groupby([\"word\"]).size().rename(\"count\").reset_index()\n",
    "        self.uniqueWords = self.uniqueWords[self.uniqueWords[\"count\"]>1]\n",
    "        if self.stemmer:\n",
    "            self.uniqueWords[\"stem\"] = self.uniqueWords.word.apply(lambda x: PorterStemmer().stem(x)).values\n",
    "            self.uniqueWords.sort_values([\"stem\", \"count\"], inplace=True, ascending=False)\n",
    "            self.uniqueStems = self.uniqueWords.groupby(\"stem\").first()\n",
    "        \n",
    "        #if self.english: self.words[\"english\"] = np.in1d(self.words[\"mode\"], allEnglishWords)\n",
    "        print(\"Fitted.\")\n",
    "            \n",
    "    def transform(self, texts):\n",
    "        texts = self._clean(texts)\n",
    "        if self.stemmer:\n",
    "            allwords = np.concatenate(texts.apply(lambda x: x.split()).values)\n",
    "            uniqueWords = pd.DataFrame(index=np.unique(allwords))\n",
    "            uniqueWords[\"stem\"] = pd.Series(uniqueWords.index).apply(lambda x: PorterStemmer().stem(x)).values\n",
    "            uniqueWords[\"mode\"] = uniqueWords.stem.apply(lambda x: self.uniqueStems.loc[x, \"word\"] if x in self.uniqueStems.index else \"\")\n",
    "            texts = texts.apply(lambda x: \" \".join([uniqueWords.loc[y, \"mode\"] for y in x.split()]))\n",
    "        #if self.english: texts = self.words.apply(lambda x: \" \".join([y for y in x.split() if self.words.loc[y,\"english\"]]))\n",
    "        print(\"Transformed.\")\n",
    "        return(texts)\n",
    "\n",
    "    def fit_transform(self, texts):\n",
    "        texts = self._clean(texts)\n",
    "        self.fit(texts)\n",
    "        texts = self.transform(texts)\n",
    "        return(texts)\n",
    "    \n",
    "    def _clean(self, texts):\n",
    "        # Remove parts between <>'s\n",
    "        texts = texts.apply(lambda x: re.sub('<.*?>', ' ', x))\n",
    "        # Keep letters and digits only.\n",
    "        if self.alpha: texts = texts.apply(lambda x: re.sub('[^a-zA-Z0-9 ]+', ' ', x))\n",
    "        # Set everything to lower case\n",
    "        if self.lower: texts = texts.apply(lambda x: x.lower())\n",
    "        return texts "
   ]
  },
  {
   "cell_type": "code",
   "execution_count": 15,
   "metadata": {},
   "outputs": [],
   "source": [
    "preprocess = Preprocessor(alpha=True, lower=True, stemmer=True)"
   ]
  },
  {
   "cell_type": "markdown",
   "metadata": {},
   "source": [
    "## Preprocessing and converting into pandas series:"
   ]
  },
  {
   "cell_type": "code",
   "execution_count": 16,
   "metadata": {},
   "outputs": [
    {
     "name": "stdout",
     "output_type": "stream",
     "text": [
      "Fitted.\n",
      "Transformed.\n",
      "Wall time: 14.2 s\n"
     ]
    }
   ],
   "source": [
    "%%time\n",
    "trainX = preprocess.fit_transform(train.review)\n"
   ]
  },
  {
   "cell_type": "code",
   "execution_count": 17,
   "metadata": {},
   "outputs": [
    {
     "name": "stdout",
     "output_type": "stream",
     "text": [
      "Transformed.\n"
     ]
    }
   ],
   "source": [
    "validX = preprocess.transform(valid.review)"
   ]
  },
  {
   "cell_type": "code",
   "execution_count": 18,
   "metadata": {},
   "outputs": [
    {
     "data": {
      "text/plain": [
       "pandas.core.series.Series"
      ]
     },
     "execution_count": 18,
     "metadata": {},
     "output_type": "execute_result"
    }
   ],
   "source": [
    "type(trainX)"
   ]
  },
  {
   "cell_type": "code",
   "execution_count": 19,
   "metadata": {},
   "outputs": [
    {
     "data": {
      "text/plain": [
       "5480    what a crappy movie the worst of the worst thi...\n",
       "5305    except for the brady variety hour this was som...\n",
       "2315    a toothsome little potboiler whose 65 minutes ...\n",
       "6825    contrary to it title this film offer no spice ...\n",
       "995     what would you expect from a film title surviv...\n",
       "Name: review, dtype: object"
      ]
     },
     "execution_count": 19,
     "metadata": {},
     "output_type": "execute_result"
    }
   ],
   "source": [
    "trainX.head()"
   ]
  },
  {
   "cell_type": "markdown",
   "metadata": {},
   "source": [
    "## Loading NLTK stop words and adding some extra stop words"
   ]
  },
  {
   "cell_type": "code",
   "execution_count": 20,
   "metadata": {},
   "outputs": [],
   "source": [
    "stop_words = text.ENGLISH_STOP_WORDS.union([\"thats\",\"weve\",\"dont\",\"lets\",\"youre\",\"im\",\"thi\",\"ha\",\n",
    "    \"wa\",\"st\",\"ask\",\"want\",\"like\",\"thank\",\"know\",\"susan\",\"ryan\",\"say\",\"got\",\"ought\",\"ive\",\"theyre\",])"
   ]
  },
  {
   "cell_type": "code",
   "execution_count": 21,
   "metadata": {},
   "outputs": [
    {
     "data": {
      "text/plain": [
       "2718    there s a great deal of material from the mode...\n",
       "3972    this movie is great mind you but only in the w...\n",
       "3627    this is one of the worst film ever i like chee...\n",
       "3720    people please don t bother to watch this movie...\n",
       "6399    here was no effort put into valentine to preve...\n",
       "Name: review, dtype: object"
      ]
     },
     "execution_count": 21,
     "metadata": {},
     "output_type": "execute_result"
    }
   ],
   "source": [
    "validX.head()"
   ]
  },
  {
   "cell_type": "markdown",
   "metadata": {},
   "source": [
    "## Using frequency based wordembedding technique : TfidfVectorizer"
   ]
  },
  {
   "cell_type": "code",
   "execution_count": 22,
   "metadata": {},
   "outputs": [],
   "source": [
    "tfidf = TfidfVectorizer(min_df=2, max_features=10000, stop_words=stop_words) "
   ]
  },
  {
   "cell_type": "code",
   "execution_count": 23,
   "metadata": {},
   "outputs": [],
   "source": [
    "trainX = tfidf.fit_transform(trainX).toarray()"
   ]
  },
  {
   "cell_type": "code",
   "execution_count": 24,
   "metadata": {},
   "outputs": [],
   "source": [
    "validX = tfidf.transform(validX).toarray()"
   ]
  },
  {
   "cell_type": "code",
   "execution_count": 25,
   "metadata": {},
   "outputs": [
    {
     "data": {
      "text/plain": [
       "numpy.ndarray"
      ]
     },
     "execution_count": 25,
     "metadata": {},
     "output_type": "execute_result"
    }
   ],
   "source": [
    "type(trainX)"
   ]
  },
  {
   "cell_type": "code",
   "execution_count": 26,
   "metadata": {},
   "outputs": [
    {
     "name": "stdout",
     "output_type": "stream",
     "text": [
      "(5000, 10000)\n",
      "(2000, 10000)\n"
     ]
    }
   ],
   "source": [
    "print(trainX.shape)\n",
    "print(validX.shape)"
   ]
  },
  {
   "cell_type": "code",
   "execution_count": 27,
   "metadata": {},
   "outputs": [],
   "source": [
    "trainY = train.label\n",
    "validY = valid.label"
   ]
  },
  {
   "cell_type": "markdown",
   "metadata": {},
   "source": [
    "## Correlation with Output variable:"
   ]
  },
  {
   "cell_type": "code",
   "execution_count": 28,
   "metadata": {},
   "outputs": [],
   "source": [
    "from scipy.stats.stats import pearsonr"
   ]
  },
  {
   "cell_type": "code",
   "execution_count": 29,
   "metadata": {},
   "outputs": [
    {
     "name": "stdout",
     "output_type": "stream",
     "text": [
      "[-0.00631142 -0.01309727  0.02569545 ... -0.02009554  0.00346197\n",
      " -0.02424504]\n"
     ]
    }
   ],
   "source": [
    "getCorrelation = np.vectorize(lambda x: pearsonr(trainX[:,x], trainY)[0])\n",
    "correlations = getCorrelation(np.arange(trainX.shape[1]))\n",
    "print(correlations)"
   ]
  },
  {
   "cell_type": "code",
   "execution_count": 30,
   "metadata": {},
   "outputs": [],
   "source": [
    "allIndeces = np.argsort(-correlations)\n",
    "bestIndeces = allIndeces[np.concatenate([np.arange(1000), np.arange(-1000, 0)])]"
   ]
  },
  {
   "cell_type": "code",
   "execution_count": 31,
   "metadata": {},
   "outputs": [
    {
     "data": {
      "text/plain": [
       "array([3945, 3156,  890, ..., 9691, 9875,  772], dtype=int64)"
      ]
     },
     "execution_count": 31,
     "metadata": {},
     "output_type": "execute_result"
    }
   ],
   "source": [
    " allIndeces"
   ]
  },
  {
   "cell_type": "code",
   "execution_count": 32,
   "metadata": {},
   "outputs": [
    {
     "data": {
      "text/plain": [
       "3085"
      ]
     },
     "execution_count": 32,
     "metadata": {},
     "output_type": "execute_result"
    }
   ],
   "source": [
    "bestIndeces[1200]"
   ]
  },
  {
   "cell_type": "code",
   "execution_count": 33,
   "metadata": {},
   "outputs": [],
   "source": [
    "trainX = trainX[:,bestIndeces]\n",
    "validX = validX[:,bestIndeces]"
   ]
  },
  {
   "cell_type": "code",
   "execution_count": 34,
   "metadata": {},
   "outputs": [
    {
     "name": "stdout",
     "output_type": "stream",
     "text": [
      "(5000, 2000) (5000,)\n",
      "(2000, 2000) (2000,)\n"
     ]
    }
   ],
   "source": [
    "print(trainX.shape, trainY.shape)\n",
    "print(validX.shape, validY.shape)"
   ]
  },
  {
   "cell_type": "code",
   "execution_count": 35,
   "metadata": {},
   "outputs": [
    {
     "data": {
      "text/plain": [
       "2000"
      ]
     },
     "execution_count": 35,
     "metadata": {},
     "output_type": "execute_result"
    }
   ],
   "source": [
    "\n",
    "trainX.shape[1]"
   ]
  },
  {
   "cell_type": "markdown",
   "metadata": {},
   "source": [
    "## Loading Keras Sequential Model "
   ]
  },
  {
   "cell_type": "code",
   "execution_count": 38,
   "metadata": {},
   "outputs": [],
   "source": [
    "from tensorflow.python.keras.models import Sequential, load_model\n",
    "from tensorflow.python.keras.layers import LSTM, Dense, Dropout\n",
    "from tensorflow.python.keras import optimizers\n",
    "\n",
    "DROPOUT = 0.5\n",
    "ACTIVATION = \"tanh\"\n"
   ]
  },
  {
   "cell_type": "code",
   "execution_count": 39,
   "metadata": {},
   "outputs": [],
   "source": [
    "import random\n",
    "random.seed(1)"
   ]
  },
  {
   "cell_type": "markdown",
   "metadata": {},
   "source": [
    "## Adding the Layers into the model:"
   ]
  },
  {
   "cell_type": "code",
   "execution_count": 41,
   "metadata": {},
   "outputs": [],
   "source": [
    "model = Sequential([    \n",
    "    \n",
    "    Dense(int(1000), activation=ACTIVATION, input_dim=trainX.shape[1]),\n",
    "    Dropout(DROPOUT),\n",
    "    Dense(int(1000), activation=ACTIVATION, input_dim=trainX.shape[1]),\n",
    "    Dropout(DROPOUT),\n",
    "    Dense(int(500), activation=ACTIVATION),\n",
    "    Dropout(DROPOUT),\n",
    "    Dense(100, activation=ACTIVATION),\n",
    "    Dropout(DROPOUT),\n",
    "    Dense(20, activation=ACTIVATION),\n",
    "    Dropout(DROPOUT),\n",
    "    Dense(5, activation=ACTIVATION),\n",
    "    Dropout(DROPOUT),\n",
    "    Dense(1, activation='sigmoid'),\n",
    "])"
   ]
  },
  {
   "cell_type": "markdown",
   "metadata": {},
   "source": [
    "### Compilation of model"
   ]
  },
  {
   "cell_type": "code",
   "execution_count": 42,
   "metadata": {},
   "outputs": [
    {
     "name": "stdout",
     "output_type": "stream",
     "text": [
      "_________________________________________________________________\n",
      "Layer (type)                 Output Shape              Param #   \n",
      "=================================================================\n",
      "dense_7 (Dense)              (None, 1000)              2001000   \n",
      "_________________________________________________________________\n",
      "dropout_6 (Dropout)          (None, 1000)              0         \n",
      "_________________________________________________________________\n",
      "dense_8 (Dense)              (None, 1000)              1001000   \n",
      "_________________________________________________________________\n",
      "dropout_7 (Dropout)          (None, 1000)              0         \n",
      "_________________________________________________________________\n",
      "dense_9 (Dense)              (None, 500)               500500    \n",
      "_________________________________________________________________\n",
      "dropout_8 (Dropout)          (None, 500)               0         \n",
      "_________________________________________________________________\n",
      "dense_10 (Dense)             (None, 100)               50100     \n",
      "_________________________________________________________________\n",
      "dropout_9 (Dropout)          (None, 100)               0         \n",
      "_________________________________________________________________\n",
      "dense_11 (Dense)             (None, 20)                2020      \n",
      "_________________________________________________________________\n",
      "dropout_10 (Dropout)         (None, 20)                0         \n",
      "_________________________________________________________________\n",
      "dense_12 (Dense)             (None, 5)                 105       \n",
      "_________________________________________________________________\n",
      "dropout_11 (Dropout)         (None, 5)                 0         \n",
      "_________________________________________________________________\n",
      "dense_13 (Dense)             (None, 1)                 6         \n",
      "=================================================================\n",
      "Total params: 3,554,731\n",
      "Trainable params: 3,554,731\n",
      "Non-trainable params: 0\n",
      "_________________________________________________________________\n"
     ]
    }
   ],
   "source": [
    "model.compile(optimizer=optimizers.Adam(0.00005), loss='binary_crossentropy', metrics=['accuracy'])\n",
    "model.summary()"
   ]
  },
  {
   "cell_type": "code",
   "execution_count": 52,
   "metadata": {},
   "outputs": [],
   "source": [
    "epochs = 50\n",
    "batchsize = 1500"
   ]
  },
  {
   "cell_type": "markdown",
   "metadata": {},
   "source": [
    "### Training the Model using training data set"
   ]
  },
  {
   "cell_type": "code",
   "execution_count": 53,
   "metadata": {},
   "outputs": [
    {
     "name": "stdout",
     "output_type": "stream",
     "text": [
      "Train on 5000 samples, validate on 2000 samples\n",
      "Epoch 1/50\n",
      "5000/5000 [==============================] - 2s 433us/sample - loss: 0.1854 - acc: 0.9670 - val_loss: 0.3524 - val_acc: 0.8660\n",
      "Epoch 2/50\n",
      "5000/5000 [==============================] - 2s 385us/sample - loss: 0.1784 - acc: 0.9680 - val_loss: 0.3532 - val_acc: 0.8650\n",
      "Epoch 3/50\n",
      "5000/5000 [==============================] - 2s 397us/sample - loss: 0.1838 - acc: 0.9650 - val_loss: 0.3541 - val_acc: 0.8635\n",
      "Epoch 4/50\n",
      "5000/5000 [==============================] - 2s 408us/sample - loss: 0.1820 - acc: 0.9650 - val_loss: 0.3550 - val_acc: 0.8630\n",
      "Epoch 5/50\n",
      "5000/5000 [==============================] - 2s 424us/sample - loss: 0.1805 - acc: 0.9652 - val_loss: 0.3556 - val_acc: 0.8650\n",
      "Epoch 6/50\n",
      "5000/5000 [==============================] - 2s 424us/sample - loss: 0.1707 - acc: 0.9696 - val_loss: 0.3563 - val_acc: 0.8650\n",
      "Epoch 7/50\n",
      "5000/5000 [==============================] - 2s 449us/sample - loss: 0.1764 - acc: 0.9698 - val_loss: 0.3575 - val_acc: 0.8635\n",
      "Epoch 8/50\n",
      "5000/5000 [==============================] - 3s 509us/sample - loss: 0.1758 - acc: 0.9706 - val_loss: 0.3587 - val_acc: 0.8665\n",
      "Epoch 9/50\n",
      "5000/5000 [==============================] - 3s 561us/sample - loss: 0.1753 - acc: 0.9672 - val_loss: 0.3592 - val_acc: 0.8660\n",
      "Epoch 10/50\n",
      "5000/5000 [==============================] - 2s 442us/sample - loss: 0.1818 - acc: 0.9616 - val_loss: 0.3594 - val_acc: 0.8640\n",
      "Epoch 11/50\n",
      "5000/5000 [==============================] - 3s 503us/sample - loss: 0.1749 - acc: 0.9624 - val_loss: 0.3599 - val_acc: 0.8665\n",
      "Epoch 12/50\n",
      "5000/5000 [==============================] - 3s 517us/sample - loss: 0.1780 - acc: 0.9674 - val_loss: 0.3605 - val_acc: 0.8670\n",
      "Epoch 13/50\n",
      "5000/5000 [==============================] - 3s 565us/sample - loss: 0.1692 - acc: 0.9700 - val_loss: 0.3612 - val_acc: 0.8660\n",
      "Epoch 14/50\n",
      "5000/5000 [==============================] - 3s 575us/sample - loss: 0.1766 - acc: 0.9660 - val_loss: 0.3621 - val_acc: 0.8655\n",
      "Epoch 15/50\n",
      "5000/5000 [==============================] - 3s 562us/sample - loss: 0.1713 - acc: 0.9688 - val_loss: 0.3626 - val_acc: 0.8665\n",
      "Epoch 16/50\n",
      "5000/5000 [==============================] - 3s 544us/sample - loss: 0.1737 - acc: 0.9682 - val_loss: 0.3627 - val_acc: 0.8655\n",
      "Epoch 17/50\n",
      "5000/5000 [==============================] - 3s 505us/sample - loss: 0.1735 - acc: 0.9690 - val_loss: 0.3629 - val_acc: 0.8660\n",
      "Epoch 18/50\n",
      "5000/5000 [==============================] - 2s 498us/sample - loss: 0.1779 - acc: 0.9620 - val_loss: 0.3633 - val_acc: 0.8670\n",
      "Epoch 19/50\n",
      "5000/5000 [==============================] - 3s 597us/sample - loss: 0.1717 - acc: 0.9688 - val_loss: 0.3636 - val_acc: 0.8655\n",
      "Epoch 20/50\n",
      "5000/5000 [==============================] - 3s 595us/sample - loss: 0.1721 - acc: 0.9676 - val_loss: 0.3647 - val_acc: 0.8670\n",
      "Epoch 21/50\n",
      "5000/5000 [==============================] - 2s 461us/sample - loss: 0.1767 - acc: 0.9662 - val_loss: 0.3657 - val_acc: 0.8665\n",
      "Epoch 22/50\n",
      "5000/5000 [==============================] - 2s 455us/sample - loss: 0.1658 - acc: 0.9712 - val_loss: 0.3664 - val_acc: 0.8670\n",
      "Epoch 23/50\n",
      "5000/5000 [==============================] - 2s 459us/sample - loss: 0.1723 - acc: 0.9664 - val_loss: 0.3673 - val_acc: 0.8680\n",
      "Epoch 24/50\n",
      "5000/5000 [==============================] - 2s 434us/sample - loss: 0.1684 - acc: 0.9666 - val_loss: 0.3672 - val_acc: 0.8650\n",
      "Epoch 25/50\n",
      "5000/5000 [==============================] - 2s 423us/sample - loss: 0.1752 - acc: 0.9690 - val_loss: 0.3674 - val_acc: 0.8645\n",
      "Epoch 26/50\n",
      "5000/5000 [==============================] - 2s 493us/sample - loss: 0.1657 - acc: 0.9706 - val_loss: 0.3676 - val_acc: 0.8660\n",
      "Epoch 27/50\n",
      "5000/5000 [==============================] - 2s 491us/sample - loss: 0.1701 - acc: 0.9720 - val_loss: 0.3681 - val_acc: 0.8660\n",
      "Epoch 28/50\n",
      "5000/5000 [==============================] - 2s 459us/sample - loss: 0.1673 - acc: 0.9686 - val_loss: 0.3688 - val_acc: 0.8655\n",
      "Epoch 29/50\n",
      "5000/5000 [==============================] - 2s 430us/sample - loss: 0.1681 - acc: 0.9706 - val_loss: 0.3704 - val_acc: 0.8665\n",
      "Epoch 30/50\n",
      "5000/5000 [==============================] - 2s 414us/sample - loss: 0.1614 - acc: 0.9720 - val_loss: 0.3717 - val_acc: 0.8660\n",
      "Epoch 31/50\n",
      "5000/5000 [==============================] - 2s 470us/sample - loss: 0.1697 - acc: 0.9706 - val_loss: 0.3718 - val_acc: 0.8650\n",
      "Epoch 32/50\n",
      "5000/5000 [==============================] - 2s 426us/sample - loss: 0.1610 - acc: 0.9740 - val_loss: 0.3717 - val_acc: 0.8670\n",
      "Epoch 33/50\n",
      "5000/5000 [==============================] - 2s 403us/sample - loss: 0.1675 - acc: 0.9688 - val_loss: 0.3721 - val_acc: 0.8660\n",
      "Epoch 34/50\n",
      "5000/5000 [==============================] - 2s 409us/sample - loss: 0.1694 - acc: 0.9662 - val_loss: 0.3732 - val_acc: 0.8655\n",
      "Epoch 35/50\n",
      "5000/5000 [==============================] - 2s 401us/sample - loss: 0.1698 - acc: 0.9700 - val_loss: 0.3743 - val_acc: 0.8640\n",
      "Epoch 36/50\n",
      "5000/5000 [==============================] - 2s 421us/sample - loss: 0.1645 - acc: 0.9716 - val_loss: 0.3748 - val_acc: 0.8630\n",
      "Epoch 37/50\n",
      "5000/5000 [==============================] - 2s 406us/sample - loss: 0.1672 - acc: 0.9694 - val_loss: 0.3752 - val_acc: 0.8635\n",
      "Epoch 38/50\n",
      "5000/5000 [==============================] - 2s 441us/sample - loss: 0.1680 - acc: 0.9684 - val_loss: 0.3753 - val_acc: 0.8635\n",
      "Epoch 39/50\n",
      "5000/5000 [==============================] - 2s 462us/sample - loss: 0.1659 - acc: 0.9700 - val_loss: 0.3755 - val_acc: 0.8650\n",
      "Epoch 40/50\n",
      "5000/5000 [==============================] - 2s 468us/sample - loss: 0.1684 - acc: 0.9704 - val_loss: 0.3760 - val_acc: 0.8650\n",
      "Epoch 41/50\n",
      "5000/5000 [==============================] - 2s 488us/sample - loss: 0.1601 - acc: 0.9706 - val_loss: 0.3760 - val_acc: 0.8660\n",
      "Epoch 42/50\n",
      "5000/5000 [==============================] - 2s 436us/sample - loss: 0.1623 - acc: 0.9708 - val_loss: 0.3759 - val_acc: 0.8645\n",
      "Epoch 43/50\n",
      "5000/5000 [==============================] - 2s 433us/sample - loss: 0.1615 - acc: 0.9706 - val_loss: 0.3760 - val_acc: 0.8640\n",
      "Epoch 44/50\n",
      "5000/5000 [==============================] - 2s 415us/sample - loss: 0.1634 - acc: 0.9718 - val_loss: 0.3763 - val_acc: 0.8670\n",
      "Epoch 45/50\n",
      "5000/5000 [==============================] - 2s 449us/sample - loss: 0.1669 - acc: 0.9704 - val_loss: 0.3767 - val_acc: 0.8650\n",
      "Epoch 46/50\n",
      "5000/5000 [==============================] - 3s 535us/sample - loss: 0.1575 - acc: 0.9742 - val_loss: 0.3778 - val_acc: 0.8660\n",
      "Epoch 47/50\n",
      "5000/5000 [==============================] - 3s 550us/sample - loss: 0.1593 - acc: 0.9708 - val_loss: 0.3789 - val_acc: 0.8650\n",
      "Epoch 48/50\n",
      "5000/5000 [==============================] - 3s 576us/sample - loss: 0.1621 - acc: 0.9696 - val_loss: 0.3798 - val_acc: 0.8640\n",
      "Epoch 49/50\n",
      "5000/5000 [==============================] - 2s 480us/sample - loss: 0.1609 - acc: 0.9712 - val_loss: 0.3806 - val_acc: 0.8625\n",
      "Epoch 50/50\n",
      "5000/5000 [==============================] - 2s 479us/sample - loss: 0.1627 - acc: 0.9678 - val_loss: 0.3813 - val_acc: 0.8625\n"
     ]
    },
    {
     "data": {
      "text/plain": [
       "<tensorflow.python.keras.callbacks.History at 0x1b8b1717358>"
      ]
     },
     "execution_count": 53,
     "metadata": {},
     "output_type": "execute_result"
    }
   ],
   "source": [
    "model.fit(trainX, trainY, epochs=epochs, batch_size=batchsize, validation_data=(validX, validY))"
   ]
  },
  {
   "cell_type": "markdown",
   "metadata": {},
   "source": [
    "### Evaluation with validation data set:"
   ]
  },
  {
   "cell_type": "code",
   "execution_count": 51,
   "metadata": {},
   "outputs": [
    {
     "name": "stdout",
     "output_type": "stream",
     "text": [
      "Accuracy= 86.55%\n"
     ]
    }
   ],
   "source": [
    "scores = model.evaluate(validX, validY, verbose=0)\n",
    "print(\"Accuracy= %.2f%%\" % (scores[1]*100))"
   ]
  },
  {
   "cell_type": "markdown",
   "metadata": {},
   "source": [
    "## Ploting the Confusion Matrix:"
   ]
  },
  {
   "cell_type": "code",
   "execution_count": 54,
   "metadata": {},
   "outputs": [],
   "source": [
    "def plot_cmat(yte, ypred):\n",
    "    '''Plotting confusion matrix'''\n",
    "    skplt.plot_confusion_matrix(yte, ypred)\n",
    "    plt.show()"
   ]
  },
  {
   "cell_type": "code",
   "execution_count": 55,
   "metadata": {},
   "outputs": [
    {
     "data": {
      "image/png": "[encoded data removed]",
      "text/plain": [
       "<Figure size 432x288 with 2 Axes>"
      ]
     },
     "metadata": {
      "needs_background": "light"
     },
     "output_type": "display_data"
    }
   ],
   "source": [
    "y_pred = model.predict_classes(validX)\n",
    "plot_cmat(validY, y_pred)"
   ]
  },
  {
   "cell_type": "code",
   "execution_count": null,
   "metadata": {},
   "outputs": [],
   "source": []
  },
  {
   "cell_type": "code",
   "execution_count": null,
   "metadata": {},
   "outputs": [],
   "source": []
  }
 ],
 "metadata": {
  "kernelspec": {
   "display_name": "Python 3",
   "language": "python",
   "name": "python3"
  },
  "language_info": {
   "codemirror_mode": {
    "name": "ipython",
    "version": 3
   },
   "file_extension": ".py",
   "mimetype": "text/x-python",
   "name": "python",
   "nbconvert_exporter": "python",
   "pygments_lexer": "ipython3",
   "version": "3.7.0"
  }
 },
 "nbformat": 4,
 "nbformat_minor": 2
}
