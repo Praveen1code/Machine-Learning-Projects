{
 "cells": [
  {
   "cell_type": "markdown",
   "metadata": {},
   "source": [
    "# Cradit Crad fraud detection"
   ]
  },
  {
   "cell_type": "code",
   "execution_count": 3,
   "metadata": {},
   "outputs": [],
   "source": [
    "#Importing librairies\n",
    "import itertools\n",
    "import numpy as np\n",
    "import pandas as pd \n",
    "from sklearn import preprocessing\n",
    "from sklearn.metrics import confusion_matrix\n",
    "from sklearn import svm\n",
    "import matplotlib.pyplot as plt\n",
    "import matplotlib.mlab as mlab\n",
    "import seaborn\n",
    "%matplotlib inline"
   ]
  },
  {
   "cell_type": "markdown",
   "metadata": {},
   "source": [
    "# Reading the file .csv\n",
    " # Converting data to Panda DataFrame"
   ]
  },
  {
   "cell_type": "code",
   "execution_count": 11,
   "metadata": {},
   "outputs": [],
   "source": [
    "data = pd.read_csv('creditcard.csv') \n",
    "data = pd.DataFrame(data)"
   ]
  },
  {
   "cell_type": "code",
   "execution_count": 37,
   "metadata": {},
   "outputs": [
    {
     "data": {
      "text/html": [
       "<div>\n",
       "<style scoped>\n",
       "    .dataframe tbody tr th:only-of-type {\n",
       "        vertical-align: middle;\n",
       "    }\n",
       "\n",
       "    .dataframe tbody tr th {\n",
       "        vertical-align: top;\n",
       "    }\n",
       "\n",
       "    .dataframe thead th {\n",
       "        text-align: right;\n",
       "    }\n",
       "</style>\n",
       "<table border=\"1\" class=\"dataframe\">\n",
       "  <thead>\n",
       "    <tr style=\"text-align: right;\">\n",
       "      <th></th>\n",
       "      <th>Time</th>\n",
       "      <th>V1</th>\n",
       "      <th>V2</th>\n",
       "      <th>V3</th>\n",
       "      <th>V4</th>\n",
       "      <th>V5</th>\n",
       "      <th>V6</th>\n",
       "      <th>V7</th>\n",
       "      <th>V8</th>\n",
       "      <th>V9</th>\n",
       "      <th>...</th>\n",
       "      <th>V21</th>\n",
       "      <th>V22</th>\n",
       "      <th>V23</th>\n",
       "      <th>V24</th>\n",
       "      <th>V25</th>\n",
       "      <th>V26</th>\n",
       "      <th>V27</th>\n",
       "      <th>V28</th>\n",
       "      <th>Amount</th>\n",
       "      <th>Class</th>\n",
       "    </tr>\n",
       "  </thead>\n",
       "  <tbody>\n",
       "    <tr>\n",
       "      <th>0</th>\n",
       "      <td>0.0</td>\n",
       "      <td>-1.359807</td>\n",
       "      <td>-0.072781</td>\n",
       "      <td>2.536347</td>\n",
       "      <td>1.378155</td>\n",
       "      <td>-0.338321</td>\n",
       "      <td>0.462388</td>\n",
       "      <td>0.239599</td>\n",
       "      <td>0.098698</td>\n",
       "      <td>0.363787</td>\n",
       "      <td>...</td>\n",
       "      <td>-0.018307</td>\n",
       "      <td>0.277838</td>\n",
       "      <td>-0.110474</td>\n",
       "      <td>0.066928</td>\n",
       "      <td>0.128539</td>\n",
       "      <td>-0.189115</td>\n",
       "      <td>0.133558</td>\n",
       "      <td>-0.021053</td>\n",
       "      <td>149.62</td>\n",
       "      <td>0</td>\n",
       "    </tr>\n",
       "    <tr>\n",
       "      <th>1</th>\n",
       "      <td>0.0</td>\n",
       "      <td>1.191857</td>\n",
       "      <td>0.266151</td>\n",
       "      <td>0.166480</td>\n",
       "      <td>0.448154</td>\n",
       "      <td>0.060018</td>\n",
       "      <td>-0.082361</td>\n",
       "      <td>-0.078803</td>\n",
       "      <td>0.085102</td>\n",
       "      <td>-0.255425</td>\n",
       "      <td>...</td>\n",
       "      <td>-0.225775</td>\n",
       "      <td>-0.638672</td>\n",
       "      <td>0.101288</td>\n",
       "      <td>-0.339846</td>\n",
       "      <td>0.167170</td>\n",
       "      <td>0.125895</td>\n",
       "      <td>-0.008983</td>\n",
       "      <td>0.014724</td>\n",
       "      <td>2.69</td>\n",
       "      <td>0</td>\n",
       "    </tr>\n",
       "    <tr>\n",
       "      <th>2</th>\n",
       "      <td>1.0</td>\n",
       "      <td>-1.358354</td>\n",
       "      <td>-1.340163</td>\n",
       "      <td>1.773209</td>\n",
       "      <td>0.379780</td>\n",
       "      <td>-0.503198</td>\n",
       "      <td>1.800499</td>\n",
       "      <td>0.791461</td>\n",
       "      <td>0.247676</td>\n",
       "      <td>-1.514654</td>\n",
       "      <td>...</td>\n",
       "      <td>0.247998</td>\n",
       "      <td>0.771679</td>\n",
       "      <td>0.909412</td>\n",
       "      <td>-0.689281</td>\n",
       "      <td>-0.327642</td>\n",
       "      <td>-0.139097</td>\n",
       "      <td>-0.055353</td>\n",
       "      <td>-0.059752</td>\n",
       "      <td>378.66</td>\n",
       "      <td>0</td>\n",
       "    </tr>\n",
       "    <tr>\n",
       "      <th>3</th>\n",
       "      <td>1.0</td>\n",
       "      <td>-0.966272</td>\n",
       "      <td>-0.185226</td>\n",
       "      <td>1.792993</td>\n",
       "      <td>-0.863291</td>\n",
       "      <td>-0.010309</td>\n",
       "      <td>1.247203</td>\n",
       "      <td>0.237609</td>\n",
       "      <td>0.377436</td>\n",
       "      <td>-1.387024</td>\n",
       "      <td>...</td>\n",
       "      <td>-0.108300</td>\n",
       "      <td>0.005274</td>\n",
       "      <td>-0.190321</td>\n",
       "      <td>-1.175575</td>\n",
       "      <td>0.647376</td>\n",
       "      <td>-0.221929</td>\n",
       "      <td>0.062723</td>\n",
       "      <td>0.061458</td>\n",
       "      <td>123.50</td>\n",
       "      <td>0</td>\n",
       "    </tr>\n",
       "    <tr>\n",
       "      <th>4</th>\n",
       "      <td>2.0</td>\n",
       "      <td>-1.158233</td>\n",
       "      <td>0.877737</td>\n",
       "      <td>1.548718</td>\n",
       "      <td>0.403034</td>\n",
       "      <td>-0.407193</td>\n",
       "      <td>0.095921</td>\n",
       "      <td>0.592941</td>\n",
       "      <td>-0.270533</td>\n",
       "      <td>0.817739</td>\n",
       "      <td>...</td>\n",
       "      <td>-0.009431</td>\n",
       "      <td>0.798278</td>\n",
       "      <td>-0.137458</td>\n",
       "      <td>0.141267</td>\n",
       "      <td>-0.206010</td>\n",
       "      <td>0.502292</td>\n",
       "      <td>0.219422</td>\n",
       "      <td>0.215153</td>\n",
       "      <td>69.99</td>\n",
       "      <td>0</td>\n",
       "    </tr>\n",
       "  </tbody>\n",
       "</table>\n",
       "<p>5 rows × 31 columns</p>\n",
       "</div>"
      ],
      "text/plain": [
       "   Time        V1        V2        V3        V4        V5        V6        V7  \\\n",
       "0   0.0 -1.359807 -0.072781  2.536347  1.378155 -0.338321  0.462388  0.239599   \n",
       "1   0.0  1.191857  0.266151  0.166480  0.448154  0.060018 -0.082361 -0.078803   \n",
       "2   1.0 -1.358354 -1.340163  1.773209  0.379780 -0.503198  1.800499  0.791461   \n",
       "3   1.0 -0.966272 -0.185226  1.792993 -0.863291 -0.010309  1.247203  0.237609   \n",
       "4   2.0 -1.158233  0.877737  1.548718  0.403034 -0.407193  0.095921  0.592941   \n",
       "\n",
       "         V8        V9  ...         V21       V22       V23       V24  \\\n",
       "0  0.098698  0.363787  ...   -0.018307  0.277838 -0.110474  0.066928   \n",
       "1  0.085102 -0.255425  ...   -0.225775 -0.638672  0.101288 -0.339846   \n",
       "2  0.247676 -1.514654  ...    0.247998  0.771679  0.909412 -0.689281   \n",
       "3  0.377436 -1.387024  ...   -0.108300  0.005274 -0.190321 -1.175575   \n",
       "4 -0.270533  0.817739  ...   -0.009431  0.798278 -0.137458  0.141267   \n",
       "\n",
       "        V25       V26       V27       V28  Amount  Class  \n",
       "0  0.128539 -0.189115  0.133558 -0.021053  149.62      0  \n",
       "1  0.167170  0.125895 -0.008983  0.014724    2.69      0  \n",
       "2 -0.327642 -0.139097 -0.055353 -0.059752  378.66      0  \n",
       "3  0.647376 -0.221929  0.062723  0.061458  123.50      0  \n",
       "4 -0.206010  0.502292  0.219422  0.215153   69.99      0  \n",
       "\n",
       "[5 rows x 31 columns]"
      ]
     },
     "execution_count": 37,
     "metadata": {},
     "output_type": "execute_result"
    }
   ],
   "source": [
    "data.head(5)"
   ]
  },
  {
   "cell_type": "markdown",
   "metadata": {},
   "source": [
    "## check if any data is null"
   ]
  },
  {
   "cell_type": "code",
   "execution_count": 13,
   "metadata": {},
   "outputs": [
    {
     "data": {
      "text/plain": [
       "False"
      ]
     },
     "execution_count": 13,
     "metadata": {},
     "output_type": "execute_result"
    }
   ],
   "source": [
    "data.isnull().values.any()"
   ]
  },
  {
   "cell_type": "code",
   "execution_count": 14,
   "metadata": {},
   "outputs": [
    {
     "data": {
      "text/plain": [
       "(284807, 31)"
      ]
     },
     "execution_count": 14,
     "metadata": {},
     "output_type": "execute_result"
    }
   ],
   "source": [
    "#data shape\n",
    "data.shape"
   ]
  },
  {
   "cell_type": "code",
   "execution_count": 15,
   "metadata": {},
   "outputs": [
    {
     "data": {
      "text/html": [
       "<div>\n",
       "<style scoped>\n",
       "    .dataframe tbody tr th:only-of-type {\n",
       "        vertical-align: middle;\n",
       "    }\n",
       "\n",
       "    .dataframe tbody tr th {\n",
       "        vertical-align: top;\n",
       "    }\n",
       "\n",
       "    .dataframe thead th {\n",
       "        text-align: right;\n",
       "    }\n",
       "</style>\n",
       "<table border=\"1\" class=\"dataframe\">\n",
       "  <thead>\n",
       "    <tr style=\"text-align: right;\">\n",
       "      <th></th>\n",
       "      <th>Time</th>\n",
       "      <th>V1</th>\n",
       "      <th>V2</th>\n",
       "      <th>V3</th>\n",
       "      <th>V4</th>\n",
       "      <th>V5</th>\n",
       "      <th>V6</th>\n",
       "      <th>V7</th>\n",
       "      <th>V8</th>\n",
       "      <th>V9</th>\n",
       "      <th>...</th>\n",
       "      <th>V21</th>\n",
       "      <th>V22</th>\n",
       "      <th>V23</th>\n",
       "      <th>V24</th>\n",
       "      <th>V25</th>\n",
       "      <th>V26</th>\n",
       "      <th>V27</th>\n",
       "      <th>V28</th>\n",
       "      <th>Amount</th>\n",
       "      <th>Class</th>\n",
       "    </tr>\n",
       "  </thead>\n",
       "  <tbody>\n",
       "    <tr>\n",
       "      <th>count</th>\n",
       "      <td>284807.000000</td>\n",
       "      <td>2.848070e+05</td>\n",
       "      <td>2.848070e+05</td>\n",
       "      <td>2.848070e+05</td>\n",
       "      <td>2.848070e+05</td>\n",
       "      <td>2.848070e+05</td>\n",
       "      <td>2.848070e+05</td>\n",
       "      <td>2.848070e+05</td>\n",
       "      <td>2.848070e+05</td>\n",
       "      <td>2.848070e+05</td>\n",
       "      <td>...</td>\n",
       "      <td>2.848070e+05</td>\n",
       "      <td>2.848070e+05</td>\n",
       "      <td>2.848070e+05</td>\n",
       "      <td>2.848070e+05</td>\n",
       "      <td>2.848070e+05</td>\n",
       "      <td>2.848070e+05</td>\n",
       "      <td>2.848070e+05</td>\n",
       "      <td>2.848070e+05</td>\n",
       "      <td>284807.000000</td>\n",
       "      <td>284807.000000</td>\n",
       "    </tr>\n",
       "    <tr>\n",
       "      <th>mean</th>\n",
       "      <td>94813.859575</td>\n",
       "      <td>3.919560e-15</td>\n",
       "      <td>5.688174e-16</td>\n",
       "      <td>-8.769071e-15</td>\n",
       "      <td>2.782312e-15</td>\n",
       "      <td>-1.552563e-15</td>\n",
       "      <td>2.010663e-15</td>\n",
       "      <td>-1.694249e-15</td>\n",
       "      <td>-1.927028e-16</td>\n",
       "      <td>-3.137024e-15</td>\n",
       "      <td>...</td>\n",
       "      <td>1.537294e-16</td>\n",
       "      <td>7.959909e-16</td>\n",
       "      <td>5.367590e-16</td>\n",
       "      <td>4.458112e-15</td>\n",
       "      <td>1.453003e-15</td>\n",
       "      <td>1.699104e-15</td>\n",
       "      <td>-3.660161e-16</td>\n",
       "      <td>-1.206049e-16</td>\n",
       "      <td>88.349619</td>\n",
       "      <td>0.001727</td>\n",
       "    </tr>\n",
       "    <tr>\n",
       "      <th>std</th>\n",
       "      <td>47488.145955</td>\n",
       "      <td>1.958696e+00</td>\n",
       "      <td>1.651309e+00</td>\n",
       "      <td>1.516255e+00</td>\n",
       "      <td>1.415869e+00</td>\n",
       "      <td>1.380247e+00</td>\n",
       "      <td>1.332271e+00</td>\n",
       "      <td>1.237094e+00</td>\n",
       "      <td>1.194353e+00</td>\n",
       "      <td>1.098632e+00</td>\n",
       "      <td>...</td>\n",
       "      <td>7.345240e-01</td>\n",
       "      <td>7.257016e-01</td>\n",
       "      <td>6.244603e-01</td>\n",
       "      <td>6.056471e-01</td>\n",
       "      <td>5.212781e-01</td>\n",
       "      <td>4.822270e-01</td>\n",
       "      <td>4.036325e-01</td>\n",
       "      <td>3.300833e-01</td>\n",
       "      <td>250.120109</td>\n",
       "      <td>0.041527</td>\n",
       "    </tr>\n",
       "    <tr>\n",
       "      <th>min</th>\n",
       "      <td>0.000000</td>\n",
       "      <td>-5.640751e+01</td>\n",
       "      <td>-7.271573e+01</td>\n",
       "      <td>-4.832559e+01</td>\n",
       "      <td>-5.683171e+00</td>\n",
       "      <td>-1.137433e+02</td>\n",
       "      <td>-2.616051e+01</td>\n",
       "      <td>-4.355724e+01</td>\n",
       "      <td>-7.321672e+01</td>\n",
       "      <td>-1.343407e+01</td>\n",
       "      <td>...</td>\n",
       "      <td>-3.483038e+01</td>\n",
       "      <td>-1.093314e+01</td>\n",
       "      <td>-4.480774e+01</td>\n",
       "      <td>-2.836627e+00</td>\n",
       "      <td>-1.029540e+01</td>\n",
       "      <td>-2.604551e+00</td>\n",
       "      <td>-2.256568e+01</td>\n",
       "      <td>-1.543008e+01</td>\n",
       "      <td>0.000000</td>\n",
       "      <td>0.000000</td>\n",
       "    </tr>\n",
       "    <tr>\n",
       "      <th>25%</th>\n",
       "      <td>54201.500000</td>\n",
       "      <td>-9.203734e-01</td>\n",
       "      <td>-5.985499e-01</td>\n",
       "      <td>-8.903648e-01</td>\n",
       "      <td>-8.486401e-01</td>\n",
       "      <td>-6.915971e-01</td>\n",
       "      <td>-7.682956e-01</td>\n",
       "      <td>-5.540759e-01</td>\n",
       "      <td>-2.086297e-01</td>\n",
       "      <td>-6.430976e-01</td>\n",
       "      <td>...</td>\n",
       "      <td>-2.283949e-01</td>\n",
       "      <td>-5.423504e-01</td>\n",
       "      <td>-1.618463e-01</td>\n",
       "      <td>-3.545861e-01</td>\n",
       "      <td>-3.171451e-01</td>\n",
       "      <td>-3.269839e-01</td>\n",
       "      <td>-7.083953e-02</td>\n",
       "      <td>-5.295979e-02</td>\n",
       "      <td>5.600000</td>\n",
       "      <td>0.000000</td>\n",
       "    </tr>\n",
       "    <tr>\n",
       "      <th>50%</th>\n",
       "      <td>84692.000000</td>\n",
       "      <td>1.810880e-02</td>\n",
       "      <td>6.548556e-02</td>\n",
       "      <td>1.798463e-01</td>\n",
       "      <td>-1.984653e-02</td>\n",
       "      <td>-5.433583e-02</td>\n",
       "      <td>-2.741871e-01</td>\n",
       "      <td>4.010308e-02</td>\n",
       "      <td>2.235804e-02</td>\n",
       "      <td>-5.142873e-02</td>\n",
       "      <td>...</td>\n",
       "      <td>-2.945017e-02</td>\n",
       "      <td>6.781943e-03</td>\n",
       "      <td>-1.119293e-02</td>\n",
       "      <td>4.097606e-02</td>\n",
       "      <td>1.659350e-02</td>\n",
       "      <td>-5.213911e-02</td>\n",
       "      <td>1.342146e-03</td>\n",
       "      <td>1.124383e-02</td>\n",
       "      <td>22.000000</td>\n",
       "      <td>0.000000</td>\n",
       "    </tr>\n",
       "    <tr>\n",
       "      <th>75%</th>\n",
       "      <td>139320.500000</td>\n",
       "      <td>1.315642e+00</td>\n",
       "      <td>8.037239e-01</td>\n",
       "      <td>1.027196e+00</td>\n",
       "      <td>7.433413e-01</td>\n",
       "      <td>6.119264e-01</td>\n",
       "      <td>3.985649e-01</td>\n",
       "      <td>5.704361e-01</td>\n",
       "      <td>3.273459e-01</td>\n",
       "      <td>5.971390e-01</td>\n",
       "      <td>...</td>\n",
       "      <td>1.863772e-01</td>\n",
       "      <td>5.285536e-01</td>\n",
       "      <td>1.476421e-01</td>\n",
       "      <td>4.395266e-01</td>\n",
       "      <td>3.507156e-01</td>\n",
       "      <td>2.409522e-01</td>\n",
       "      <td>9.104512e-02</td>\n",
       "      <td>7.827995e-02</td>\n",
       "      <td>77.165000</td>\n",
       "      <td>0.000000</td>\n",
       "    </tr>\n",
       "    <tr>\n",
       "      <th>max</th>\n",
       "      <td>172792.000000</td>\n",
       "      <td>2.454930e+00</td>\n",
       "      <td>2.205773e+01</td>\n",
       "      <td>9.382558e+00</td>\n",
       "      <td>1.687534e+01</td>\n",
       "      <td>3.480167e+01</td>\n",
       "      <td>7.330163e+01</td>\n",
       "      <td>1.205895e+02</td>\n",
       "      <td>2.000721e+01</td>\n",
       "      <td>1.559499e+01</td>\n",
       "      <td>...</td>\n",
       "      <td>2.720284e+01</td>\n",
       "      <td>1.050309e+01</td>\n",
       "      <td>2.252841e+01</td>\n",
       "      <td>4.584549e+00</td>\n",
       "      <td>7.519589e+00</td>\n",
       "      <td>3.517346e+00</td>\n",
       "      <td>3.161220e+01</td>\n",
       "      <td>3.384781e+01</td>\n",
       "      <td>25691.160000</td>\n",
       "      <td>1.000000</td>\n",
       "    </tr>\n",
       "  </tbody>\n",
       "</table>\n",
       "<p>8 rows × 31 columns</p>\n",
       "</div>"
      ],
      "text/plain": [
       "                Time            V1            V2            V3            V4  \\\n",
       "count  284807.000000  2.848070e+05  2.848070e+05  2.848070e+05  2.848070e+05   \n",
       "mean    94813.859575  3.919560e-15  5.688174e-16 -8.769071e-15  2.782312e-15   \n",
       "std     47488.145955  1.958696e+00  1.651309e+00  1.516255e+00  1.415869e+00   \n",
       "min         0.000000 -5.640751e+01 -7.271573e+01 -4.832559e+01 -5.683171e+00   \n",
       "25%     54201.500000 -9.203734e-01 -5.985499e-01 -8.903648e-01 -8.486401e-01   \n",
       "50%     84692.000000  1.810880e-02  6.548556e-02  1.798463e-01 -1.984653e-02   \n",
       "75%    139320.500000  1.315642e+00  8.037239e-01  1.027196e+00  7.433413e-01   \n",
       "max    172792.000000  2.454930e+00  2.205773e+01  9.382558e+00  1.687534e+01   \n",
       "\n",
       "                 V5            V6            V7            V8            V9  \\\n",
       "count  2.848070e+05  2.848070e+05  2.848070e+05  2.848070e+05  2.848070e+05   \n",
       "mean  -1.552563e-15  2.010663e-15 -1.694249e-15 -1.927028e-16 -3.137024e-15   \n",
       "std    1.380247e+00  1.332271e+00  1.237094e+00  1.194353e+00  1.098632e+00   \n",
       "min   -1.137433e+02 -2.616051e+01 -4.355724e+01 -7.321672e+01 -1.343407e+01   \n",
       "25%   -6.915971e-01 -7.682956e-01 -5.540759e-01 -2.086297e-01 -6.430976e-01   \n",
       "50%   -5.433583e-02 -2.741871e-01  4.010308e-02  2.235804e-02 -5.142873e-02   \n",
       "75%    6.119264e-01  3.985649e-01  5.704361e-01  3.273459e-01  5.971390e-01   \n",
       "max    3.480167e+01  7.330163e+01  1.205895e+02  2.000721e+01  1.559499e+01   \n",
       "\n",
       "           ...                 V21           V22           V23           V24  \\\n",
       "count      ...        2.848070e+05  2.848070e+05  2.848070e+05  2.848070e+05   \n",
       "mean       ...        1.537294e-16  7.959909e-16  5.367590e-16  4.458112e-15   \n",
       "std        ...        7.345240e-01  7.257016e-01  6.244603e-01  6.056471e-01   \n",
       "min        ...       -3.483038e+01 -1.093314e+01 -4.480774e+01 -2.836627e+00   \n",
       "25%        ...       -2.283949e-01 -5.423504e-01 -1.618463e-01 -3.545861e-01   \n",
       "50%        ...       -2.945017e-02  6.781943e-03 -1.119293e-02  4.097606e-02   \n",
       "75%        ...        1.863772e-01  5.285536e-01  1.476421e-01  4.395266e-01   \n",
       "max        ...        2.720284e+01  1.050309e+01  2.252841e+01  4.584549e+00   \n",
       "\n",
       "                V25           V26           V27           V28         Amount  \\\n",
       "count  2.848070e+05  2.848070e+05  2.848070e+05  2.848070e+05  284807.000000   \n",
       "mean   1.453003e-15  1.699104e-15 -3.660161e-16 -1.206049e-16      88.349619   \n",
       "std    5.212781e-01  4.822270e-01  4.036325e-01  3.300833e-01     250.120109   \n",
       "min   -1.029540e+01 -2.604551e+00 -2.256568e+01 -1.543008e+01       0.000000   \n",
       "25%   -3.171451e-01 -3.269839e-01 -7.083953e-02 -5.295979e-02       5.600000   \n",
       "50%    1.659350e-02 -5.213911e-02  1.342146e-03  1.124383e-02      22.000000   \n",
       "75%    3.507156e-01  2.409522e-01  9.104512e-02  7.827995e-02      77.165000   \n",
       "max    7.519589e+00  3.517346e+00  3.161220e+01  3.384781e+01   25691.160000   \n",
       "\n",
       "               Class  \n",
       "count  284807.000000  \n",
       "mean        0.001727  \n",
       "std         0.041527  \n",
       "min         0.000000  \n",
       "25%         0.000000  \n",
       "50%         0.000000  \n",
       "75%         0.000000  \n",
       "max         1.000000  \n",
       "\n",
       "[8 rows x 31 columns]"
      ]
     },
     "execution_count": 15,
     "metadata": {},
     "output_type": "execute_result"
    }
   ],
   "source": [
    "df.describe()"
   ]
  },
  {
   "cell_type": "markdown",
   "metadata": {},
   "source": [
    "## Preprocessing on the Data Set"
   ]
  },
  {
   "cell_type": "markdown",
   "metadata": {},
   "source": [
    "#### build the scatter plot"
   ]
  },
  {
   "cell_type": "code",
   "execution_count": 17,
   "metadata": {},
   "outputs": [
    {
     "data": {
      "image/png": "[encoded data removed]",
      "text/plain": [
       "<Figure size 1080x720 with 1 Axes>"
      ]
     },
     "metadata": {},
     "output_type": "display_data"
    }
   ],
   "source": [
    "df_fraud = df[df['Class'] == 1] # Recovery of fraud data\n",
    "plt.figure(figsize=(15,10))\n",
    "plt.scatter(df_fraud['Time'], df_fraud['Amount']) # Display fraud amounts according to their time\n",
    "plt.title('Scratter plot amount fraud')\n",
    "plt.xlabel('Time')\n",
    "plt.ylabel('Amount')\n",
    "plt.xlim([0,175000])\n",
    "plt.ylim([0,2500])\n",
    "plt.show()"
   ]
  },
  {
   "cell_type": "code",
   "execution_count": 19,
   "metadata": {},
   "outputs": [
    {
     "name": "stdout",
     "output_type": "stream",
     "text": [
      "We have 492 fraud data points and 284315 nonfraudulent data points.\n"
     ]
    }
   ],
   "source": [
    "frauds = df.loc[df['Class'] == 1]\n",
    "non_frauds = df.loc[df['Class'] == 0]\n",
    "print(\"We have\", len(frauds), \"fraud data points and\", len(non_frauds), \"nonfraudulent data points.\")"
   ]
  },
  {
   "cell_type": "code",
   "execution_count": 20,
   "metadata": {},
   "outputs": [
    {
     "data": {
      "image/png": "[encoded data removed]",
      "text/plain": [
       "<Figure size 432x288 with 1 Axes>"
      ]
     },
     "metadata": {},
     "output_type": "display_data"
    },
    {
     "name": "stdout",
     "output_type": "stream",
     "text": [
      "This feature looks important based on their distribution with respect to class.\n",
      "We will now zoom in onto the fraud data to see the ranges of amount just for fun.\n"
     ]
    }
   ],
   "source": [
    "\n",
    "ax = frauds.plot.scatter(x='Amount', y='Class', color='Orange', label='Fraud')\n",
    "non_frauds.plot.scatter(x='Amount', y='Class', color='Blue', label='Normal', ax=ax)\n",
    "plt.show()\n",
    "print(\"This feature looks important based on their distribution with respect to class.\")\n",
    "print(\"We will now zoom in onto the fraud data to see the ranges of amount just for fun.\")"
   ]
  },
  {
   "cell_type": "code",
   "execution_count": 21,
   "metadata": {},
   "outputs": [
    {
     "data": {
      "image/png": "[encoded data removed]",
      "text/plain": [
       "<Figure size 432x288 with 1 Axes>"
      ]
     },
     "metadata": {},
     "output_type": "display_data"
    }
   ],
   "source": [
    "bx = frauds.plot.scatter(x='Amount', y='Class', color='Orange', label='Fraud')\n",
    "plt.show()"
   ]
  },
  {
   "cell_type": "markdown",
   "metadata": {},
   "source": [
    "#### Plot the Bar chart"
   ]
  },
  {
   "cell_type": "code",
   "execution_count": 23,
   "metadata": {},
   "outputs": [
    {
     "data": {
      "text/plain": [
       "Text(0,0.5,'Frequency')"
      ]
     },
     "execution_count": 23,
     "metadata": {},
     "output_type": "execute_result"
    },
    {
     "data": {
      "image/png": "[encoded data removed]",
      "text/plain": [
       "<Figure size 432x288 with 1 Axes>"
      ]
     },
     "metadata": {},
     "output_type": "display_data"
    }
   ],
   "source": [
    "count_classes = pd.value_counts(data['Class'], sort = True).sort_index()\n",
    "count_classes.plot(kind = 'bar')\n",
    "plt.title(\"Fraud class histogram\")\n",
    "plt.xlabel(\"Class\")\n",
    "plt.ylabel(\"Frequency\")"
   ]
  },
  {
   "cell_type": "code",
   "execution_count": 29,
   "metadata": {},
   "outputs": [
    {
     "name": "stdout",
     "output_type": "stream",
     "text": [
      "fraud transaction\n",
      "492\n",
      "no fraud transaction\n",
      "284315\n"
     ]
    }
   ],
   "source": [
    "number_fraud = len(data[data.Class == 1])\n",
    "number_no_fraud = len(data[data.Class == 0])\n",
    "\n",
    "print(\"fraud transaction\")\n",
    "print(number_fraud)\n",
    "print(\"no fraud transaction\")\n",
    "print(number_no_fraud)"
   ]
  },
  {
   "cell_type": "markdown",
   "metadata": {},
   "source": [
    "### Clearly the data is totally unbalanced!! \n"
   ]
  },
  {
   "cell_type": "markdown",
   "metadata": {},
   "source": [
    "### We notice, first of all, the time doesn't impact the frequency of frauds. Moreover, the majority of frauds are small amounts."
   ]
  },
  {
   "cell_type": "code",
   "execution_count": 30,
   "metadata": {},
   "outputs": [
    {
     "name": "stdout",
     "output_type": "stream",
     "text": [
      "There are only 9 frauds where the amount was bigger than 1000 over 492 frauds\n"
     ]
    }
   ],
   "source": [
    "nb_big_fraud = df_fraud[df_fraud['Amount'] > 1000].shape[0] # Recovery of frauds over 1000\n",
    "print('There are only '+ str(nb_big_fraud) + ' frauds where the amount was bigger than 1000 over ' + str(df_fraud.shape[0]) + ' frauds')\n"
   ]
  },
  {
   "cell_type": "markdown",
   "metadata": {},
   "source": [
    "This dataset is unbalanced which means using the data as it is might result in unwanted behaviour from a supervised classifier. To make it easy to understand if a classifier were to train with this data set trying to achieve the best accuracy possible it would most likely label every transaction as a non-fraud"
   ]
  },
  {
   "cell_type": "code",
   "execution_count": 31,
   "metadata": {},
   "outputs": [
    {
     "name": "stdout",
     "output_type": "stream",
     "text": [
      "The accuracy of the classifier then would be : 0.998269524998681 which is the number of good classification over the number of tuple to classify\n"
     ]
    }
   ],
   "source": [
    "print(\"The accuracy of the classifier then would be : \"+ str((284315-492)/284315)+ \" which is the number of good classification over the number of tuple to classify\")"
   ]
  },
  {
   "cell_type": "markdown",
   "metadata": {},
   "source": [
    "To answer this problem we could use the oversampling principle or the undersampling principle The undersampling principle should be used only if we can be sure that the selected few tuples (in this case non-fraud) are representative of the whole non-fraud transactions of the dataset.\n",
    "\n"
   ]
  },
  {
   "cell_type": "markdown",
   "metadata": {},
   "source": [
    "## Corelation of feature"
   ]
  },
  {
   "cell_type": "markdown",
   "metadata": {},
   "source": [
    "### Corelation matix using color"
   ]
  },
  {
   "cell_type": "code",
   "execution_count": 33,
   "metadata": {},
   "outputs": [
    {
     "data": {
      "image/png": "[encoded data removed]",
      "text/plain": [
       "<Figure size 2232x2232 with 1 Axes>"
      ]
     },
     "metadata": {},
     "output_type": "display_data"
    }
   ],
   "source": [
    "def plot_correlated(data, size=31):\n",
    "    \"\"\"\n",
    "    Function to show plot of correlation between the data columns\n",
    "    data : the data from pandas Dataframe\n",
    "    size : the horizontal and vertical size of the plot\n",
    "    \n",
    "    Result : blue - cyan - yellow - red -darkred = less to more correlated columns = 0 ---- 1 \n",
    "    \"\"\"\n",
    "    corr = data.corr()\n",
    "    fig, ax = plt.subplots(figsize=(size, size))\n",
    "    ax.matshow(corr)\n",
    "    plt.xticks(range(len(corr.columns)), corr.columns)\n",
    "    plt.yticks(range(len(corr.columns)), corr.columns)\n",
    "plot_correlated(data)\n"
   ]
  },
  {
   "cell_type": "markdown",
   "metadata": {},
   "source": [
    "### corelation matrix using \"probability of corelation\""
   ]
  },
  {
   "cell_type": "code",
   "execution_count": 41,
   "metadata": {},
   "outputs": [],
   "source": [
    "def plot_correlated(data, size=31):\n",
    "    \"\"\"\n",
    "    Function to show plot of correlation between the data columns\n",
    "    data : the data from pandas Dataframe\n",
    "    size : the horizontal and vertical size of the plot\n",
    "    \n",
    "    Result : blue - cyan - yellow - red -darkred = less to more correlated columns = 0 ---- 1 \n",
    "    \"\"\"\n",
    "    corr = data.corr()\n",
    "    fig, ax = plt.subplots(figsize=(size, size))\n",
    "    ax.matshow(corr)\n",
    "    plt.xticks(range(len(corr.columns)), corr.columns)\n",
    "    plt.yticks(range(len(corr.columns)), corr.columns)"
   ]
  },
  {
   "cell_type": "code",
   "execution_count": 42,
   "metadata": {},
   "outputs": [
    {
     "data": {
      "text/html": [
       "<div>\n",
       "<style scoped>\n",
       "    .dataframe tbody tr th:only-of-type {\n",
       "        vertical-align: middle;\n",
       "    }\n",
       "\n",
       "    .dataframe tbody tr th {\n",
       "        vertical-align: top;\n",
       "    }\n",
       "\n",
       "    .dataframe thead th {\n",
       "        text-align: right;\n",
       "    }\n",
       "</style>\n",
       "<table border=\"1\" class=\"dataframe\">\n",
       "  <thead>\n",
       "    <tr style=\"text-align: right;\">\n",
       "      <th></th>\n",
       "      <th>Time</th>\n",
       "      <th>V1</th>\n",
       "      <th>V2</th>\n",
       "      <th>V3</th>\n",
       "      <th>V4</th>\n",
       "      <th>V5</th>\n",
       "      <th>V6</th>\n",
       "      <th>V7</th>\n",
       "      <th>V8</th>\n",
       "      <th>V9</th>\n",
       "      <th>...</th>\n",
       "      <th>V21</th>\n",
       "      <th>V22</th>\n",
       "      <th>V23</th>\n",
       "      <th>V24</th>\n",
       "      <th>V25</th>\n",
       "      <th>V26</th>\n",
       "      <th>V27</th>\n",
       "      <th>V28</th>\n",
       "      <th>Amount</th>\n",
       "      <th>Class</th>\n",
       "    </tr>\n",
       "  </thead>\n",
       "  <tbody>\n",
       "    <tr>\n",
       "      <th>Time</th>\n",
       "      <td>1.000000</td>\n",
       "      <td>1.173963e-01</td>\n",
       "      <td>-1.059333e-02</td>\n",
       "      <td>-4.196182e-01</td>\n",
       "      <td>-1.052602e-01</td>\n",
       "      <td>1.730721e-01</td>\n",
       "      <td>-6.301647e-02</td>\n",
       "      <td>8.471437e-02</td>\n",
       "      <td>-3.694943e-02</td>\n",
       "      <td>-8.660434e-03</td>\n",
       "      <td>...</td>\n",
       "      <td>4.473573e-02</td>\n",
       "      <td>1.440591e-01</td>\n",
       "      <td>5.114236e-02</td>\n",
       "      <td>-1.618187e-02</td>\n",
       "      <td>-2.330828e-01</td>\n",
       "      <td>-4.140710e-02</td>\n",
       "      <td>-5.134591e-03</td>\n",
       "      <td>-9.412688e-03</td>\n",
       "      <td>-0.010596</td>\n",
       "      <td>-0.012323</td>\n",
       "    </tr>\n",
       "    <tr>\n",
       "      <th>V1</th>\n",
       "      <td>0.117396</td>\n",
       "      <td>1.000000e+00</td>\n",
       "      <td>4.697350e-17</td>\n",
       "      <td>-1.424390e-15</td>\n",
       "      <td>1.755316e-17</td>\n",
       "      <td>6.391162e-17</td>\n",
       "      <td>2.398071e-16</td>\n",
       "      <td>1.991550e-15</td>\n",
       "      <td>-9.490675e-17</td>\n",
       "      <td>2.169581e-16</td>\n",
       "      <td>...</td>\n",
       "      <td>-1.755072e-16</td>\n",
       "      <td>7.477367e-17</td>\n",
       "      <td>9.808705e-16</td>\n",
       "      <td>7.354269e-17</td>\n",
       "      <td>-9.805358e-16</td>\n",
       "      <td>-8.621897e-17</td>\n",
       "      <td>3.208233e-17</td>\n",
       "      <td>9.820892e-16</td>\n",
       "      <td>-0.227709</td>\n",
       "      <td>-0.101347</td>\n",
       "    </tr>\n",
       "    <tr>\n",
       "      <th>V2</th>\n",
       "      <td>-0.010593</td>\n",
       "      <td>4.697350e-17</td>\n",
       "      <td>1.000000e+00</td>\n",
       "      <td>2.512175e-16</td>\n",
       "      <td>-1.126388e-16</td>\n",
       "      <td>-2.039868e-16</td>\n",
       "      <td>5.024680e-16</td>\n",
       "      <td>3.966486e-16</td>\n",
       "      <td>-4.413984e-17</td>\n",
       "      <td>-5.728718e-17</td>\n",
       "      <td>...</td>\n",
       "      <td>8.444409e-17</td>\n",
       "      <td>2.500830e-16</td>\n",
       "      <td>1.059562e-16</td>\n",
       "      <td>-8.142354e-18</td>\n",
       "      <td>-4.261894e-17</td>\n",
       "      <td>2.601622e-16</td>\n",
       "      <td>-4.478472e-16</td>\n",
       "      <td>-3.676415e-16</td>\n",
       "      <td>-0.531409</td>\n",
       "      <td>0.091289</td>\n",
       "    </tr>\n",
       "    <tr>\n",
       "      <th>V3</th>\n",
       "      <td>-0.419618</td>\n",
       "      <td>-1.424390e-15</td>\n",
       "      <td>2.512175e-16</td>\n",
       "      <td>1.000000e+00</td>\n",
       "      <td>-3.416910e-16</td>\n",
       "      <td>-1.436514e-15</td>\n",
       "      <td>1.431581e-15</td>\n",
       "      <td>2.168574e-15</td>\n",
       "      <td>3.433113e-16</td>\n",
       "      <td>-4.233770e-16</td>\n",
       "      <td>...</td>\n",
       "      <td>-2.971969e-17</td>\n",
       "      <td>4.648259e-16</td>\n",
       "      <td>2.115206e-17</td>\n",
       "      <td>-9.351637e-17</td>\n",
       "      <td>4.771164e-16</td>\n",
       "      <td>6.521501e-16</td>\n",
       "      <td>6.239832e-16</td>\n",
       "      <td>7.726948e-16</td>\n",
       "      <td>-0.210880</td>\n",
       "      <td>-0.192961</td>\n",
       "    </tr>\n",
       "    <tr>\n",
       "      <th>V4</th>\n",
       "      <td>-0.105260</td>\n",
       "      <td>1.755316e-17</td>\n",
       "      <td>-1.126388e-16</td>\n",
       "      <td>-3.416910e-16</td>\n",
       "      <td>1.000000e+00</td>\n",
       "      <td>-1.940929e-15</td>\n",
       "      <td>-2.712659e-16</td>\n",
       "      <td>1.556330e-16</td>\n",
       "      <td>5.195643e-16</td>\n",
       "      <td>3.859585e-16</td>\n",
       "      <td>...</td>\n",
       "      <td>-9.976950e-17</td>\n",
       "      <td>2.099922e-16</td>\n",
       "      <td>6.002528e-17</td>\n",
       "      <td>2.229738e-16</td>\n",
       "      <td>5.394585e-16</td>\n",
       "      <td>-6.179751e-16</td>\n",
       "      <td>-6.403423e-17</td>\n",
       "      <td>-5.863664e-17</td>\n",
       "      <td>0.098732</td>\n",
       "      <td>0.133447</td>\n",
       "    </tr>\n",
       "    <tr>\n",
       "      <th>V5</th>\n",
       "      <td>0.173072</td>\n",
       "      <td>6.391162e-17</td>\n",
       "      <td>-2.039868e-16</td>\n",
       "      <td>-1.436514e-15</td>\n",
       "      <td>-1.940929e-15</td>\n",
       "      <td>1.000000e+00</td>\n",
       "      <td>7.926364e-16</td>\n",
       "      <td>-4.209851e-16</td>\n",
       "      <td>7.589187e-16</td>\n",
       "      <td>4.205206e-16</td>\n",
       "      <td>...</td>\n",
       "      <td>-1.368701e-16</td>\n",
       "      <td>5.060029e-16</td>\n",
       "      <td>1.637596e-16</td>\n",
       "      <td>-9.286095e-16</td>\n",
       "      <td>5.625102e-16</td>\n",
       "      <td>9.144690e-16</td>\n",
       "      <td>4.465960e-16</td>\n",
       "      <td>-3.299167e-16</td>\n",
       "      <td>-0.386356</td>\n",
       "      <td>-0.094974</td>\n",
       "    </tr>\n",
       "    <tr>\n",
       "      <th>V6</th>\n",
       "      <td>-0.063016</td>\n",
       "      <td>2.398071e-16</td>\n",
       "      <td>5.024680e-16</td>\n",
       "      <td>1.431581e-15</td>\n",
       "      <td>-2.712659e-16</td>\n",
       "      <td>7.926364e-16</td>\n",
       "      <td>1.000000e+00</td>\n",
       "      <td>1.429426e-16</td>\n",
       "      <td>-1.707421e-16</td>\n",
       "      <td>1.114447e-16</td>\n",
       "      <td>...</td>\n",
       "      <td>-1.575903e-16</td>\n",
       "      <td>-3.362902e-16</td>\n",
       "      <td>-7.232186e-17</td>\n",
       "      <td>-1.261867e-15</td>\n",
       "      <td>1.081933e-15</td>\n",
       "      <td>-2.378414e-16</td>\n",
       "      <td>-2.623818e-16</td>\n",
       "      <td>4.813155e-16</td>\n",
       "      <td>0.215981</td>\n",
       "      <td>-0.043643</td>\n",
       "    </tr>\n",
       "    <tr>\n",
       "      <th>V7</th>\n",
       "      <td>0.084714</td>\n",
       "      <td>1.991550e-15</td>\n",
       "      <td>3.966486e-16</td>\n",
       "      <td>2.168574e-15</td>\n",
       "      <td>1.556330e-16</td>\n",
       "      <td>-4.209851e-16</td>\n",
       "      <td>1.429426e-16</td>\n",
       "      <td>1.000000e+00</td>\n",
       "      <td>-8.691834e-17</td>\n",
       "      <td>7.933251e-16</td>\n",
       "      <td>...</td>\n",
       "      <td>1.938604e-16</td>\n",
       "      <td>-1.058131e-15</td>\n",
       "      <td>2.327911e-16</td>\n",
       "      <td>-2.589727e-17</td>\n",
       "      <td>1.174169e-15</td>\n",
       "      <td>-7.334507e-16</td>\n",
       "      <td>-5.886825e-16</td>\n",
       "      <td>-6.836764e-17</td>\n",
       "      <td>0.397311</td>\n",
       "      <td>-0.187257</td>\n",
       "    </tr>\n",
       "    <tr>\n",
       "      <th>V8</th>\n",
       "      <td>-0.036949</td>\n",
       "      <td>-9.490675e-17</td>\n",
       "      <td>-4.413984e-17</td>\n",
       "      <td>3.433113e-16</td>\n",
       "      <td>5.195643e-16</td>\n",
       "      <td>7.589187e-16</td>\n",
       "      <td>-1.707421e-16</td>\n",
       "      <td>-8.691834e-17</td>\n",
       "      <td>1.000000e+00</td>\n",
       "      <td>2.900829e-16</td>\n",
       "      <td>...</td>\n",
       "      <td>-2.412439e-16</td>\n",
       "      <td>5.475559e-16</td>\n",
       "      <td>3.897104e-16</td>\n",
       "      <td>-1.802967e-16</td>\n",
       "      <td>-1.390791e-16</td>\n",
       "      <td>-1.209975e-16</td>\n",
       "      <td>1.733633e-16</td>\n",
       "      <td>-4.484325e-16</td>\n",
       "      <td>-0.103079</td>\n",
       "      <td>0.019875</td>\n",
       "    </tr>\n",
       "    <tr>\n",
       "      <th>V9</th>\n",
       "      <td>-0.008660</td>\n",
       "      <td>2.169581e-16</td>\n",
       "      <td>-5.728718e-17</td>\n",
       "      <td>-4.233770e-16</td>\n",
       "      <td>3.859585e-16</td>\n",
       "      <td>4.205206e-16</td>\n",
       "      <td>1.114447e-16</td>\n",
       "      <td>7.933251e-16</td>\n",
       "      <td>2.900829e-16</td>\n",
       "      <td>1.000000e+00</td>\n",
       "      <td>...</td>\n",
       "      <td>4.578389e-17</td>\n",
       "      <td>2.871855e-17</td>\n",
       "      <td>5.929286e-16</td>\n",
       "      <td>-2.346385e-16</td>\n",
       "      <td>1.099645e-15</td>\n",
       "      <td>-1.388725e-15</td>\n",
       "      <td>-2.287414e-16</td>\n",
       "      <td>9.146779e-16</td>\n",
       "      <td>-0.044246</td>\n",
       "      <td>-0.097733</td>\n",
       "    </tr>\n",
       "    <tr>\n",
       "      <th>V10</th>\n",
       "      <td>0.030617</td>\n",
       "      <td>7.433820e-17</td>\n",
       "      <td>-4.782388e-16</td>\n",
       "      <td>6.289267e-16</td>\n",
       "      <td>6.055490e-16</td>\n",
       "      <td>-6.601716e-16</td>\n",
       "      <td>2.850776e-16</td>\n",
       "      <td>3.043333e-17</td>\n",
       "      <td>9.051847e-17</td>\n",
       "      <td>-2.771761e-16</td>\n",
       "      <td>...</td>\n",
       "      <td>8.089504e-16</td>\n",
       "      <td>-6.707598e-16</td>\n",
       "      <td>3.809732e-16</td>\n",
       "      <td>-4.032806e-17</td>\n",
       "      <td>-2.863813e-16</td>\n",
       "      <td>-2.554293e-16</td>\n",
       "      <td>-3.103239e-16</td>\n",
       "      <td>-1.515934e-16</td>\n",
       "      <td>-0.101502</td>\n",
       "      <td>-0.216883</td>\n",
       "    </tr>\n",
       "    <tr>\n",
       "      <th>V11</th>\n",
       "      <td>-0.247689</td>\n",
       "      <td>2.438580e-16</td>\n",
       "      <td>9.468995e-16</td>\n",
       "      <td>-5.501758e-17</td>\n",
       "      <td>-2.083600e-16</td>\n",
       "      <td>7.342759e-16</td>\n",
       "      <td>4.865799e-16</td>\n",
       "      <td>-1.084105e-15</td>\n",
       "      <td>1.954747e-16</td>\n",
       "      <td>4.682341e-16</td>\n",
       "      <td>...</td>\n",
       "      <td>-3.911893e-16</td>\n",
       "      <td>-3.811640e-17</td>\n",
       "      <td>2.232007e-16</td>\n",
       "      <td>1.219849e-15</td>\n",
       "      <td>-4.567635e-16</td>\n",
       "      <td>-1.110976e-16</td>\n",
       "      <td>-2.635827e-16</td>\n",
       "      <td>-3.091914e-16</td>\n",
       "      <td>0.000104</td>\n",
       "      <td>0.154876</td>\n",
       "    </tr>\n",
       "    <tr>\n",
       "      <th>V12</th>\n",
       "      <td>0.124348</td>\n",
       "      <td>2.422086e-16</td>\n",
       "      <td>-6.588252e-16</td>\n",
       "      <td>2.206522e-16</td>\n",
       "      <td>-5.657963e-16</td>\n",
       "      <td>3.761033e-16</td>\n",
       "      <td>2.140589e-16</td>\n",
       "      <td>1.510045e-15</td>\n",
       "      <td>-6.266057e-17</td>\n",
       "      <td>-2.445230e-15</td>\n",
       "      <td>...</td>\n",
       "      <td>3.229576e-16</td>\n",
       "      <td>-5.903992e-16</td>\n",
       "      <td>1.392162e-16</td>\n",
       "      <td>4.901644e-16</td>\n",
       "      <td>5.053736e-16</td>\n",
       "      <td>-5.759321e-16</td>\n",
       "      <td>-2.312619e-16</td>\n",
       "      <td>7.327446e-16</td>\n",
       "      <td>-0.009542</td>\n",
       "      <td>-0.260593</td>\n",
       "    </tr>\n",
       "    <tr>\n",
       "      <th>V13</th>\n",
       "      <td>-0.065902</td>\n",
       "      <td>-2.115458e-16</td>\n",
       "      <td>3.854521e-16</td>\n",
       "      <td>-6.883375e-16</td>\n",
       "      <td>-1.506129e-16</td>\n",
       "      <td>-9.578659e-16</td>\n",
       "      <td>-2.268061e-16</td>\n",
       "      <td>-9.892325e-17</td>\n",
       "      <td>-2.382948e-16</td>\n",
       "      <td>-2.650351e-16</td>\n",
       "      <td>...</td>\n",
       "      <td>9.499130e-17</td>\n",
       "      <td>-2.659710e-17</td>\n",
       "      <td>-5.884304e-16</td>\n",
       "      <td>-5.470547e-16</td>\n",
       "      <td>8.066738e-17</td>\n",
       "      <td>-2.121518e-16</td>\n",
       "      <td>-4.520414e-16</td>\n",
       "      <td>1.049541e-15</td>\n",
       "      <td>0.005293</td>\n",
       "      <td>-0.004570</td>\n",
       "    </tr>\n",
       "    <tr>\n",
       "      <th>V14</th>\n",
       "      <td>-0.098757</td>\n",
       "      <td>9.352582e-16</td>\n",
       "      <td>-2.541036e-16</td>\n",
       "      <td>4.271336e-16</td>\n",
       "      <td>-8.522435e-17</td>\n",
       "      <td>-3.634803e-16</td>\n",
       "      <td>3.452801e-16</td>\n",
       "      <td>-1.729462e-16</td>\n",
       "      <td>-1.131098e-16</td>\n",
       "      <td>2.343317e-16</td>\n",
       "      <td>...</td>\n",
       "      <td>1.634141e-17</td>\n",
       "      <td>3.439699e-16</td>\n",
       "      <td>7.620728e-17</td>\n",
       "      <td>2.335749e-16</td>\n",
       "      <td>-2.606783e-16</td>\n",
       "      <td>-6.580254e-18</td>\n",
       "      <td>1.285770e-16</td>\n",
       "      <td>2.503271e-15</td>\n",
       "      <td>0.033751</td>\n",
       "      <td>-0.302544</td>\n",
       "    </tr>\n",
       "    <tr>\n",
       "      <th>V15</th>\n",
       "      <td>-0.183453</td>\n",
       "      <td>-3.252451e-16</td>\n",
       "      <td>2.831060e-16</td>\n",
       "      <td>1.122756e-16</td>\n",
       "      <td>-1.507718e-16</td>\n",
       "      <td>-5.132620e-16</td>\n",
       "      <td>-6.368111e-18</td>\n",
       "      <td>1.936832e-17</td>\n",
       "      <td>2.021491e-16</td>\n",
       "      <td>-1.588105e-15</td>\n",
       "      <td>...</td>\n",
       "      <td>1.947458e-17</td>\n",
       "      <td>-8.936817e-16</td>\n",
       "      <td>1.119827e-16</td>\n",
       "      <td>-4.589689e-16</td>\n",
       "      <td>3.869740e-16</td>\n",
       "      <td>3.761094e-16</td>\n",
       "      <td>-1.265235e-15</td>\n",
       "      <td>-1.063286e-15</td>\n",
       "      <td>-0.002986</td>\n",
       "      <td>-0.004223</td>\n",
       "    </tr>\n",
       "    <tr>\n",
       "      <th>V16</th>\n",
       "      <td>0.011903</td>\n",
       "      <td>6.308789e-16</td>\n",
       "      <td>4.934097e-17</td>\n",
       "      <td>1.183364e-15</td>\n",
       "      <td>-6.939204e-16</td>\n",
       "      <td>-3.517076e-16</td>\n",
       "      <td>-2.477917e-16</td>\n",
       "      <td>2.893672e-16</td>\n",
       "      <td>5.027192e-16</td>\n",
       "      <td>-3.251906e-16</td>\n",
       "      <td>...</td>\n",
       "      <td>-3.927401e-16</td>\n",
       "      <td>3.878384e-17</td>\n",
       "      <td>8.519670e-16</td>\n",
       "      <td>-4.289239e-16</td>\n",
       "      <td>-6.644104e-16</td>\n",
       "      <td>-5.186503e-16</td>\n",
       "      <td>7.820038e-16</td>\n",
       "      <td>8.637186e-16</td>\n",
       "      <td>-0.003910</td>\n",
       "      <td>-0.196539</td>\n",
       "    </tr>\n",
       "    <tr>\n",
       "      <th>V17</th>\n",
       "      <td>-0.073297</td>\n",
       "      <td>-5.011524e-16</td>\n",
       "      <td>-9.883008e-16</td>\n",
       "      <td>4.576619e-17</td>\n",
       "      <td>-4.397925e-16</td>\n",
       "      <td>1.425729e-16</td>\n",
       "      <td>3.567582e-16</td>\n",
       "      <td>1.149692e-15</td>\n",
       "      <td>-3.508777e-16</td>\n",
       "      <td>6.535992e-16</td>\n",
       "      <td>...</td>\n",
       "      <td>-7.753967e-16</td>\n",
       "      <td>-8.389703e-16</td>\n",
       "      <td>5.367784e-16</td>\n",
       "      <td>-5.543631e-17</td>\n",
       "      <td>4.822068e-16</td>\n",
       "      <td>4.870302e-16</td>\n",
       "      <td>8.844373e-16</td>\n",
       "      <td>-2.182692e-16</td>\n",
       "      <td>0.007309</td>\n",
       "      <td>-0.326481</td>\n",
       "    </tr>\n",
       "    <tr>\n",
       "      <th>V18</th>\n",
       "      <td>0.090438</td>\n",
       "      <td>2.870125e-16</td>\n",
       "      <td>2.636654e-16</td>\n",
       "      <td>5.427965e-16</td>\n",
       "      <td>1.493667e-16</td>\n",
       "      <td>1.109525e-15</td>\n",
       "      <td>2.811474e-16</td>\n",
       "      <td>-1.116789e-16</td>\n",
       "      <td>-4.093852e-16</td>\n",
       "      <td>1.203843e-16</td>\n",
       "      <td>...</td>\n",
       "      <td>-1.140973e-15</td>\n",
       "      <td>-8.662635e-17</td>\n",
       "      <td>-3.624236e-16</td>\n",
       "      <td>-1.126043e-16</td>\n",
       "      <td>-2.310856e-16</td>\n",
       "      <td>3.183964e-16</td>\n",
       "      <td>2.435170e-16</td>\n",
       "      <td>8.844995e-16</td>\n",
       "      <td>0.035650</td>\n",
       "      <td>-0.111485</td>\n",
       "    </tr>\n",
       "    <tr>\n",
       "      <th>V19</th>\n",
       "      <td>0.028975</td>\n",
       "      <td>1.818128e-16</td>\n",
       "      <td>9.528280e-17</td>\n",
       "      <td>2.576773e-16</td>\n",
       "      <td>-2.656938e-16</td>\n",
       "      <td>-3.138234e-16</td>\n",
       "      <td>2.717167e-16</td>\n",
       "      <td>-2.874017e-16</td>\n",
       "      <td>-5.339821e-16</td>\n",
       "      <td>1.120752e-16</td>\n",
       "      <td>...</td>\n",
       "      <td>4.032541e-16</td>\n",
       "      <td>-9.690436e-16</td>\n",
       "      <td>5.733798e-16</td>\n",
       "      <td>3.126716e-17</td>\n",
       "      <td>7.415355e-16</td>\n",
       "      <td>5.614354e-16</td>\n",
       "      <td>-1.113035e-16</td>\n",
       "      <td>-1.375843e-15</td>\n",
       "      <td>-0.056151</td>\n",
       "      <td>0.034783</td>\n",
       "    </tr>\n",
       "    <tr>\n",
       "      <th>V20</th>\n",
       "      <td>-0.050866</td>\n",
       "      <td>1.036959e-16</td>\n",
       "      <td>-9.309954e-16</td>\n",
       "      <td>-9.429297e-16</td>\n",
       "      <td>-3.223123e-16</td>\n",
       "      <td>2.076048e-16</td>\n",
       "      <td>1.898638e-16</td>\n",
       "      <td>1.744242e-16</td>\n",
       "      <td>-1.095534e-16</td>\n",
       "      <td>-4.340941e-16</td>\n",
       "      <td>...</td>\n",
       "      <td>-1.120828e-15</td>\n",
       "      <td>1.105842e-15</td>\n",
       "      <td>4.986739e-16</td>\n",
       "      <td>1.637488e-16</td>\n",
       "      <td>-1.518242e-16</td>\n",
       "      <td>-2.975081e-16</td>\n",
       "      <td>-1.446069e-15</td>\n",
       "      <td>-1.133579e-16</td>\n",
       "      <td>0.339403</td>\n",
       "      <td>0.020090</td>\n",
       "    </tr>\n",
       "    <tr>\n",
       "      <th>V21</th>\n",
       "      <td>0.044736</td>\n",
       "      <td>-1.755072e-16</td>\n",
       "      <td>8.444409e-17</td>\n",
       "      <td>-2.971969e-17</td>\n",
       "      <td>-9.976950e-17</td>\n",
       "      <td>-1.368701e-16</td>\n",
       "      <td>-1.575903e-16</td>\n",
       "      <td>1.938604e-16</td>\n",
       "      <td>-2.412439e-16</td>\n",
       "      <td>4.578389e-17</td>\n",
       "      <td>...</td>\n",
       "      <td>1.000000e+00</td>\n",
       "      <td>3.905948e-15</td>\n",
       "      <td>6.127323e-16</td>\n",
       "      <td>1.298254e-16</td>\n",
       "      <td>-2.826293e-16</td>\n",
       "      <td>-4.907301e-16</td>\n",
       "      <td>-1.033403e-15</td>\n",
       "      <td>5.132234e-16</td>\n",
       "      <td>0.105999</td>\n",
       "      <td>0.040413</td>\n",
       "    </tr>\n",
       "    <tr>\n",
       "      <th>V22</th>\n",
       "      <td>0.144059</td>\n",
       "      <td>7.477367e-17</td>\n",
       "      <td>2.500830e-16</td>\n",
       "      <td>4.648259e-16</td>\n",
       "      <td>2.099922e-16</td>\n",
       "      <td>5.060029e-16</td>\n",
       "      <td>-3.362902e-16</td>\n",
       "      <td>-1.058131e-15</td>\n",
       "      <td>5.475559e-16</td>\n",
       "      <td>2.871855e-17</td>\n",
       "      <td>...</td>\n",
       "      <td>3.905948e-15</td>\n",
       "      <td>1.000000e+00</td>\n",
       "      <td>3.130812e-16</td>\n",
       "      <td>1.150829e-17</td>\n",
       "      <td>-6.078986e-16</td>\n",
       "      <td>-8.477050e-16</td>\n",
       "      <td>-1.294910e-16</td>\n",
       "      <td>-3.021376e-16</td>\n",
       "      <td>-0.064801</td>\n",
       "      <td>0.000805</td>\n",
       "    </tr>\n",
       "    <tr>\n",
       "      <th>V23</th>\n",
       "      <td>0.051142</td>\n",
       "      <td>9.808705e-16</td>\n",
       "      <td>1.059562e-16</td>\n",
       "      <td>2.115206e-17</td>\n",
       "      <td>6.002528e-17</td>\n",
       "      <td>1.637596e-16</td>\n",
       "      <td>-7.232186e-17</td>\n",
       "      <td>2.327911e-16</td>\n",
       "      <td>3.897104e-16</td>\n",
       "      <td>5.929286e-16</td>\n",
       "      <td>...</td>\n",
       "      <td>6.127323e-16</td>\n",
       "      <td>3.130812e-16</td>\n",
       "      <td>1.000000e+00</td>\n",
       "      <td>-4.411271e-17</td>\n",
       "      <td>-9.938362e-16</td>\n",
       "      <td>8.848700e-16</td>\n",
       "      <td>5.524044e-16</td>\n",
       "      <td>9.029821e-16</td>\n",
       "      <td>-0.112633</td>\n",
       "      <td>-0.002685</td>\n",
       "    </tr>\n",
       "    <tr>\n",
       "      <th>V24</th>\n",
       "      <td>-0.016182</td>\n",
       "      <td>7.354269e-17</td>\n",
       "      <td>-8.142354e-18</td>\n",
       "      <td>-9.351637e-17</td>\n",
       "      <td>2.229738e-16</td>\n",
       "      <td>-9.286095e-16</td>\n",
       "      <td>-1.261867e-15</td>\n",
       "      <td>-2.589727e-17</td>\n",
       "      <td>-1.802967e-16</td>\n",
       "      <td>-2.346385e-16</td>\n",
       "      <td>...</td>\n",
       "      <td>1.298254e-16</td>\n",
       "      <td>1.150829e-17</td>\n",
       "      <td>-4.411271e-17</td>\n",
       "      <td>1.000000e+00</td>\n",
       "      <td>1.557318e-15</td>\n",
       "      <td>3.129195e-16</td>\n",
       "      <td>-3.736529e-16</td>\n",
       "      <td>-2.259275e-16</td>\n",
       "      <td>0.005146</td>\n",
       "      <td>-0.007221</td>\n",
       "    </tr>\n",
       "    <tr>\n",
       "      <th>V25</th>\n",
       "      <td>-0.233083</td>\n",
       "      <td>-9.805358e-16</td>\n",
       "      <td>-4.261894e-17</td>\n",
       "      <td>4.771164e-16</td>\n",
       "      <td>5.394585e-16</td>\n",
       "      <td>5.625102e-16</td>\n",
       "      <td>1.081933e-15</td>\n",
       "      <td>1.174169e-15</td>\n",
       "      <td>-1.390791e-16</td>\n",
       "      <td>1.099645e-15</td>\n",
       "      <td>...</td>\n",
       "      <td>-2.826293e-16</td>\n",
       "      <td>-6.078986e-16</td>\n",
       "      <td>-9.938362e-16</td>\n",
       "      <td>1.557318e-15</td>\n",
       "      <td>1.000000e+00</td>\n",
       "      <td>2.810884e-15</td>\n",
       "      <td>-6.107118e-16</td>\n",
       "      <td>3.399375e-16</td>\n",
       "      <td>-0.047837</td>\n",
       "      <td>0.003308</td>\n",
       "    </tr>\n",
       "    <tr>\n",
       "      <th>V26</th>\n",
       "      <td>-0.041407</td>\n",
       "      <td>-8.621897e-17</td>\n",
       "      <td>2.601622e-16</td>\n",
       "      <td>6.521501e-16</td>\n",
       "      <td>-6.179751e-16</td>\n",
       "      <td>9.144690e-16</td>\n",
       "      <td>-2.378414e-16</td>\n",
       "      <td>-7.334507e-16</td>\n",
       "      <td>-1.209975e-16</td>\n",
       "      <td>-1.388725e-15</td>\n",
       "      <td>...</td>\n",
       "      <td>-4.907301e-16</td>\n",
       "      <td>-8.477050e-16</td>\n",
       "      <td>8.848700e-16</td>\n",
       "      <td>3.129195e-16</td>\n",
       "      <td>2.810884e-15</td>\n",
       "      <td>1.000000e+00</td>\n",
       "      <td>-3.383861e-16</td>\n",
       "      <td>-3.751403e-16</td>\n",
       "      <td>-0.003208</td>\n",
       "      <td>0.004455</td>\n",
       "    </tr>\n",
       "    <tr>\n",
       "      <th>V27</th>\n",
       "      <td>-0.005135</td>\n",
       "      <td>3.208233e-17</td>\n",
       "      <td>-4.478472e-16</td>\n",
       "      <td>6.239832e-16</td>\n",
       "      <td>-6.403423e-17</td>\n",
       "      <td>4.465960e-16</td>\n",
       "      <td>-2.623818e-16</td>\n",
       "      <td>-5.886825e-16</td>\n",
       "      <td>1.733633e-16</td>\n",
       "      <td>-2.287414e-16</td>\n",
       "      <td>...</td>\n",
       "      <td>-1.033403e-15</td>\n",
       "      <td>-1.294910e-16</td>\n",
       "      <td>5.524044e-16</td>\n",
       "      <td>-3.736529e-16</td>\n",
       "      <td>-6.107118e-16</td>\n",
       "      <td>-3.383861e-16</td>\n",
       "      <td>1.000000e+00</td>\n",
       "      <td>-3.770124e-16</td>\n",
       "      <td>0.028825</td>\n",
       "      <td>0.017580</td>\n",
       "    </tr>\n",
       "    <tr>\n",
       "      <th>V28</th>\n",
       "      <td>-0.009413</td>\n",
       "      <td>9.820892e-16</td>\n",
       "      <td>-3.676415e-16</td>\n",
       "      <td>7.726948e-16</td>\n",
       "      <td>-5.863664e-17</td>\n",
       "      <td>-3.299167e-16</td>\n",
       "      <td>4.813155e-16</td>\n",
       "      <td>-6.836764e-17</td>\n",
       "      <td>-4.484325e-16</td>\n",
       "      <td>9.146779e-16</td>\n",
       "      <td>...</td>\n",
       "      <td>5.132234e-16</td>\n",
       "      <td>-3.021376e-16</td>\n",
       "      <td>9.029821e-16</td>\n",
       "      <td>-2.259275e-16</td>\n",
       "      <td>3.399375e-16</td>\n",
       "      <td>-3.751403e-16</td>\n",
       "      <td>-3.770124e-16</td>\n",
       "      <td>1.000000e+00</td>\n",
       "      <td>0.010258</td>\n",
       "      <td>0.009536</td>\n",
       "    </tr>\n",
       "    <tr>\n",
       "      <th>Amount</th>\n",
       "      <td>-0.010596</td>\n",
       "      <td>-2.277087e-01</td>\n",
       "      <td>-5.314089e-01</td>\n",
       "      <td>-2.108805e-01</td>\n",
       "      <td>9.873167e-02</td>\n",
       "      <td>-3.863563e-01</td>\n",
       "      <td>2.159812e-01</td>\n",
       "      <td>3.973113e-01</td>\n",
       "      <td>-1.030791e-01</td>\n",
       "      <td>-4.424560e-02</td>\n",
       "      <td>...</td>\n",
       "      <td>1.059989e-01</td>\n",
       "      <td>-6.480065e-02</td>\n",
       "      <td>-1.126326e-01</td>\n",
       "      <td>5.146217e-03</td>\n",
       "      <td>-4.783686e-02</td>\n",
       "      <td>-3.208037e-03</td>\n",
       "      <td>2.882546e-02</td>\n",
       "      <td>1.025822e-02</td>\n",
       "      <td>1.000000</td>\n",
       "      <td>0.005632</td>\n",
       "    </tr>\n",
       "    <tr>\n",
       "      <th>Class</th>\n",
       "      <td>-0.012323</td>\n",
       "      <td>-1.013473e-01</td>\n",
       "      <td>9.128865e-02</td>\n",
       "      <td>-1.929608e-01</td>\n",
       "      <td>1.334475e-01</td>\n",
       "      <td>-9.497430e-02</td>\n",
       "      <td>-4.364316e-02</td>\n",
       "      <td>-1.872566e-01</td>\n",
       "      <td>1.987512e-02</td>\n",
       "      <td>-9.773269e-02</td>\n",
       "      <td>...</td>\n",
       "      <td>4.041338e-02</td>\n",
       "      <td>8.053175e-04</td>\n",
       "      <td>-2.685156e-03</td>\n",
       "      <td>-7.220907e-03</td>\n",
       "      <td>3.307706e-03</td>\n",
       "      <td>4.455398e-03</td>\n",
       "      <td>1.757973e-02</td>\n",
       "      <td>9.536041e-03</td>\n",
       "      <td>0.005632</td>\n",
       "      <td>1.000000</td>\n",
       "    </tr>\n",
       "  </tbody>\n",
       "</table>\n",
       "<p>31 rows × 31 columns</p>\n",
       "</div>"
      ],
      "text/plain": [
       "            Time            V1            V2            V3            V4  \\\n",
       "Time    1.000000  1.173963e-01 -1.059333e-02 -4.196182e-01 -1.052602e-01   \n",
       "V1      0.117396  1.000000e+00  4.697350e-17 -1.424390e-15  1.755316e-17   \n",
       "V2     -0.010593  4.697350e-17  1.000000e+00  2.512175e-16 -1.126388e-16   \n",
       "V3     -0.419618 -1.424390e-15  2.512175e-16  1.000000e+00 -3.416910e-16   \n",
       "V4     -0.105260  1.755316e-17 -1.126388e-16 -3.416910e-16  1.000000e+00   \n",
       "V5      0.173072  6.391162e-17 -2.039868e-16 -1.436514e-15 -1.940929e-15   \n",
       "V6     -0.063016  2.398071e-16  5.024680e-16  1.431581e-15 -2.712659e-16   \n",
       "V7      0.084714  1.991550e-15  3.966486e-16  2.168574e-15  1.556330e-16   \n",
       "V8     -0.036949 -9.490675e-17 -4.413984e-17  3.433113e-16  5.195643e-16   \n",
       "V9     -0.008660  2.169581e-16 -5.728718e-17 -4.233770e-16  3.859585e-16   \n",
       "V10     0.030617  7.433820e-17 -4.782388e-16  6.289267e-16  6.055490e-16   \n",
       "V11    -0.247689  2.438580e-16  9.468995e-16 -5.501758e-17 -2.083600e-16   \n",
       "V12     0.124348  2.422086e-16 -6.588252e-16  2.206522e-16 -5.657963e-16   \n",
       "V13    -0.065902 -2.115458e-16  3.854521e-16 -6.883375e-16 -1.506129e-16   \n",
       "V14    -0.098757  9.352582e-16 -2.541036e-16  4.271336e-16 -8.522435e-17   \n",
       "V15    -0.183453 -3.252451e-16  2.831060e-16  1.122756e-16 -1.507718e-16   \n",
       "V16     0.011903  6.308789e-16  4.934097e-17  1.183364e-15 -6.939204e-16   \n",
       "V17    -0.073297 -5.011524e-16 -9.883008e-16  4.576619e-17 -4.397925e-16   \n",
       "V18     0.090438  2.870125e-16  2.636654e-16  5.427965e-16  1.493667e-16   \n",
       "V19     0.028975  1.818128e-16  9.528280e-17  2.576773e-16 -2.656938e-16   \n",
       "V20    -0.050866  1.036959e-16 -9.309954e-16 -9.429297e-16 -3.223123e-16   \n",
       "V21     0.044736 -1.755072e-16  8.444409e-17 -2.971969e-17 -9.976950e-17   \n",
       "V22     0.144059  7.477367e-17  2.500830e-16  4.648259e-16  2.099922e-16   \n",
       "V23     0.051142  9.808705e-16  1.059562e-16  2.115206e-17  6.002528e-17   \n",
       "V24    -0.016182  7.354269e-17 -8.142354e-18 -9.351637e-17  2.229738e-16   \n",
       "V25    -0.233083 -9.805358e-16 -4.261894e-17  4.771164e-16  5.394585e-16   \n",
       "V26    -0.041407 -8.621897e-17  2.601622e-16  6.521501e-16 -6.179751e-16   \n",
       "V27    -0.005135  3.208233e-17 -4.478472e-16  6.239832e-16 -6.403423e-17   \n",
       "V28    -0.009413  9.820892e-16 -3.676415e-16  7.726948e-16 -5.863664e-17   \n",
       "Amount -0.010596 -2.277087e-01 -5.314089e-01 -2.108805e-01  9.873167e-02   \n",
       "Class  -0.012323 -1.013473e-01  9.128865e-02 -1.929608e-01  1.334475e-01   \n",
       "\n",
       "                  V5            V6            V7            V8            V9  \\\n",
       "Time    1.730721e-01 -6.301647e-02  8.471437e-02 -3.694943e-02 -8.660434e-03   \n",
       "V1      6.391162e-17  2.398071e-16  1.991550e-15 -9.490675e-17  2.169581e-16   \n",
       "V2     -2.039868e-16  5.024680e-16  3.966486e-16 -4.413984e-17 -5.728718e-17   \n",
       "V3     -1.436514e-15  1.431581e-15  2.168574e-15  3.433113e-16 -4.233770e-16   \n",
       "V4     -1.940929e-15 -2.712659e-16  1.556330e-16  5.195643e-16  3.859585e-16   \n",
       "V5      1.000000e+00  7.926364e-16 -4.209851e-16  7.589187e-16  4.205206e-16   \n",
       "V6      7.926364e-16  1.000000e+00  1.429426e-16 -1.707421e-16  1.114447e-16   \n",
       "V7     -4.209851e-16  1.429426e-16  1.000000e+00 -8.691834e-17  7.933251e-16   \n",
       "V8      7.589187e-16 -1.707421e-16 -8.691834e-17  1.000000e+00  2.900829e-16   \n",
       "V9      4.205206e-16  1.114447e-16  7.933251e-16  2.900829e-16  1.000000e+00   \n",
       "V10    -6.601716e-16  2.850776e-16  3.043333e-17  9.051847e-17 -2.771761e-16   \n",
       "V11     7.342759e-16  4.865799e-16 -1.084105e-15  1.954747e-16  4.682341e-16   \n",
       "V12     3.761033e-16  2.140589e-16  1.510045e-15 -6.266057e-17 -2.445230e-15   \n",
       "V13    -9.578659e-16 -2.268061e-16 -9.892325e-17 -2.382948e-16 -2.650351e-16   \n",
       "V14    -3.634803e-16  3.452801e-16 -1.729462e-16 -1.131098e-16  2.343317e-16   \n",
       "V15    -5.132620e-16 -6.368111e-18  1.936832e-17  2.021491e-16 -1.588105e-15   \n",
       "V16    -3.517076e-16 -2.477917e-16  2.893672e-16  5.027192e-16 -3.251906e-16   \n",
       "V17     1.425729e-16  3.567582e-16  1.149692e-15 -3.508777e-16  6.535992e-16   \n",
       "V18     1.109525e-15  2.811474e-16 -1.116789e-16 -4.093852e-16  1.203843e-16   \n",
       "V19    -3.138234e-16  2.717167e-16 -2.874017e-16 -5.339821e-16  1.120752e-16   \n",
       "V20     2.076048e-16  1.898638e-16  1.744242e-16 -1.095534e-16 -4.340941e-16   \n",
       "V21    -1.368701e-16 -1.575903e-16  1.938604e-16 -2.412439e-16  4.578389e-17   \n",
       "V22     5.060029e-16 -3.362902e-16 -1.058131e-15  5.475559e-16  2.871855e-17   \n",
       "V23     1.637596e-16 -7.232186e-17  2.327911e-16  3.897104e-16  5.929286e-16   \n",
       "V24    -9.286095e-16 -1.261867e-15 -2.589727e-17 -1.802967e-16 -2.346385e-16   \n",
       "V25     5.625102e-16  1.081933e-15  1.174169e-15 -1.390791e-16  1.099645e-15   \n",
       "V26     9.144690e-16 -2.378414e-16 -7.334507e-16 -1.209975e-16 -1.388725e-15   \n",
       "V27     4.465960e-16 -2.623818e-16 -5.886825e-16  1.733633e-16 -2.287414e-16   \n",
       "V28    -3.299167e-16  4.813155e-16 -6.836764e-17 -4.484325e-16  9.146779e-16   \n",
       "Amount -3.863563e-01  2.159812e-01  3.973113e-01 -1.030791e-01 -4.424560e-02   \n",
       "Class  -9.497430e-02 -4.364316e-02 -1.872566e-01  1.987512e-02 -9.773269e-02   \n",
       "\n",
       "          ...              V21           V22           V23           V24  \\\n",
       "Time      ...     4.473573e-02  1.440591e-01  5.114236e-02 -1.618187e-02   \n",
       "V1        ...    -1.755072e-16  7.477367e-17  9.808705e-16  7.354269e-17   \n",
       "V2        ...     8.444409e-17  2.500830e-16  1.059562e-16 -8.142354e-18   \n",
       "V3        ...    -2.971969e-17  4.648259e-16  2.115206e-17 -9.351637e-17   \n",
       "V4        ...    -9.976950e-17  2.099922e-16  6.002528e-17  2.229738e-16   \n",
       "V5        ...    -1.368701e-16  5.060029e-16  1.637596e-16 -9.286095e-16   \n",
       "V6        ...    -1.575903e-16 -3.362902e-16 -7.232186e-17 -1.261867e-15   \n",
       "V7        ...     1.938604e-16 -1.058131e-15  2.327911e-16 -2.589727e-17   \n",
       "V8        ...    -2.412439e-16  5.475559e-16  3.897104e-16 -1.802967e-16   \n",
       "V9        ...     4.578389e-17  2.871855e-17  5.929286e-16 -2.346385e-16   \n",
       "V10       ...     8.089504e-16 -6.707598e-16  3.809732e-16 -4.032806e-17   \n",
       "V11       ...    -3.911893e-16 -3.811640e-17  2.232007e-16  1.219849e-15   \n",
       "V12       ...     3.229576e-16 -5.903992e-16  1.392162e-16  4.901644e-16   \n",
       "V13       ...     9.499130e-17 -2.659710e-17 -5.884304e-16 -5.470547e-16   \n",
       "V14       ...     1.634141e-17  3.439699e-16  7.620728e-17  2.335749e-16   \n",
       "V15       ...     1.947458e-17 -8.936817e-16  1.119827e-16 -4.589689e-16   \n",
       "V16       ...    -3.927401e-16  3.878384e-17  8.519670e-16 -4.289239e-16   \n",
       "V17       ...    -7.753967e-16 -8.389703e-16  5.367784e-16 -5.543631e-17   \n",
       "V18       ...    -1.140973e-15 -8.662635e-17 -3.624236e-16 -1.126043e-16   \n",
       "V19       ...     4.032541e-16 -9.690436e-16  5.733798e-16  3.126716e-17   \n",
       "V20       ...    -1.120828e-15  1.105842e-15  4.986739e-16  1.637488e-16   \n",
       "V21       ...     1.000000e+00  3.905948e-15  6.127323e-16  1.298254e-16   \n",
       "V22       ...     3.905948e-15  1.000000e+00  3.130812e-16  1.150829e-17   \n",
       "V23       ...     6.127323e-16  3.130812e-16  1.000000e+00 -4.411271e-17   \n",
       "V24       ...     1.298254e-16  1.150829e-17 -4.411271e-17  1.000000e+00   \n",
       "V25       ...    -2.826293e-16 -6.078986e-16 -9.938362e-16  1.557318e-15   \n",
       "V26       ...    -4.907301e-16 -8.477050e-16  8.848700e-16  3.129195e-16   \n",
       "V27       ...    -1.033403e-15 -1.294910e-16  5.524044e-16 -3.736529e-16   \n",
       "V28       ...     5.132234e-16 -3.021376e-16  9.029821e-16 -2.259275e-16   \n",
       "Amount    ...     1.059989e-01 -6.480065e-02 -1.126326e-01  5.146217e-03   \n",
       "Class     ...     4.041338e-02  8.053175e-04 -2.685156e-03 -7.220907e-03   \n",
       "\n",
       "                 V25           V26           V27           V28    Amount  \\\n",
       "Time   -2.330828e-01 -4.140710e-02 -5.134591e-03 -9.412688e-03 -0.010596   \n",
       "V1     -9.805358e-16 -8.621897e-17  3.208233e-17  9.820892e-16 -0.227709   \n",
       "V2     -4.261894e-17  2.601622e-16 -4.478472e-16 -3.676415e-16 -0.531409   \n",
       "V3      4.771164e-16  6.521501e-16  6.239832e-16  7.726948e-16 -0.210880   \n",
       "V4      5.394585e-16 -6.179751e-16 -6.403423e-17 -5.863664e-17  0.098732   \n",
       "V5      5.625102e-16  9.144690e-16  4.465960e-16 -3.299167e-16 -0.386356   \n",
       "V6      1.081933e-15 -2.378414e-16 -2.623818e-16  4.813155e-16  0.215981   \n",
       "V7      1.174169e-15 -7.334507e-16 -5.886825e-16 -6.836764e-17  0.397311   \n",
       "V8     -1.390791e-16 -1.209975e-16  1.733633e-16 -4.484325e-16 -0.103079   \n",
       "V9      1.099645e-15 -1.388725e-15 -2.287414e-16  9.146779e-16 -0.044246   \n",
       "V10    -2.863813e-16 -2.554293e-16 -3.103239e-16 -1.515934e-16 -0.101502   \n",
       "V11    -4.567635e-16 -1.110976e-16 -2.635827e-16 -3.091914e-16  0.000104   \n",
       "V12     5.053736e-16 -5.759321e-16 -2.312619e-16  7.327446e-16 -0.009542   \n",
       "V13     8.066738e-17 -2.121518e-16 -4.520414e-16  1.049541e-15  0.005293   \n",
       "V14    -2.606783e-16 -6.580254e-18  1.285770e-16  2.503271e-15  0.033751   \n",
       "V15     3.869740e-16  3.761094e-16 -1.265235e-15 -1.063286e-15 -0.002986   \n",
       "V16    -6.644104e-16 -5.186503e-16  7.820038e-16  8.637186e-16 -0.003910   \n",
       "V17     4.822068e-16  4.870302e-16  8.844373e-16 -2.182692e-16  0.007309   \n",
       "V18    -2.310856e-16  3.183964e-16  2.435170e-16  8.844995e-16  0.035650   \n",
       "V19     7.415355e-16  5.614354e-16 -1.113035e-16 -1.375843e-15 -0.056151   \n",
       "V20    -1.518242e-16 -2.975081e-16 -1.446069e-15 -1.133579e-16  0.339403   \n",
       "V21    -2.826293e-16 -4.907301e-16 -1.033403e-15  5.132234e-16  0.105999   \n",
       "V22    -6.078986e-16 -8.477050e-16 -1.294910e-16 -3.021376e-16 -0.064801   \n",
       "V23    -9.938362e-16  8.848700e-16  5.524044e-16  9.029821e-16 -0.112633   \n",
       "V24     1.557318e-15  3.129195e-16 -3.736529e-16 -2.259275e-16  0.005146   \n",
       "V25     1.000000e+00  2.810884e-15 -6.107118e-16  3.399375e-16 -0.047837   \n",
       "V26     2.810884e-15  1.000000e+00 -3.383861e-16 -3.751403e-16 -0.003208   \n",
       "V27    -6.107118e-16 -3.383861e-16  1.000000e+00 -3.770124e-16  0.028825   \n",
       "V28     3.399375e-16 -3.751403e-16 -3.770124e-16  1.000000e+00  0.010258   \n",
       "Amount -4.783686e-02 -3.208037e-03  2.882546e-02  1.025822e-02  1.000000   \n",
       "Class   3.307706e-03  4.455398e-03  1.757973e-02  9.536041e-03  0.005632   \n",
       "\n",
       "           Class  \n",
       "Time   -0.012323  \n",
       "V1     -0.101347  \n",
       "V2      0.091289  \n",
       "V3     -0.192961  \n",
       "V4      0.133447  \n",
       "V5     -0.094974  \n",
       "V6     -0.043643  \n",
       "V7     -0.187257  \n",
       "V8      0.019875  \n",
       "V9     -0.097733  \n",
       "V10    -0.216883  \n",
       "V11     0.154876  \n",
       "V12    -0.260593  \n",
       "V13    -0.004570  \n",
       "V14    -0.302544  \n",
       "V15    -0.004223  \n",
       "V16    -0.196539  \n",
       "V17    -0.326481  \n",
       "V18    -0.111485  \n",
       "V19     0.034783  \n",
       "V20     0.020090  \n",
       "V21     0.040413  \n",
       "V22     0.000805  \n",
       "V23    -0.002685  \n",
       "V24    -0.007221  \n",
       "V25     0.003308  \n",
       "V26     0.004455  \n",
       "V27     0.017580  \n",
       "V28     0.009536  \n",
       "Amount  0.005632  \n",
       "Class   1.000000  \n",
       "\n",
       "[31 rows x 31 columns]"
      ]
     },
     "execution_count": 42,
     "metadata": {},
     "output_type": "execute_result"
    }
   ],
   "source": [
    "data.corr()"
   ]
  },
  {
   "cell_type": "markdown",
   "metadata": {},
   "source": [
    "### Corelation of Features using \"Heat map\""
   ]
  },
  {
   "cell_type": "code",
   "execution_count": 44,
   "metadata": {},
   "outputs": [
    {
     "data": {
      "image/png": "[encoded data removed]",
      "text/plain": [
       "<Figure size 1080x720 with 2 Axes>"
      ]
     },
     "metadata": {},
     "output_type": "display_data"
    }
   ],
   "source": [
    "df_corr = df.corr() # Calculation of the correlation coefficients in pairs, with the default method:\n",
    "                    # Pearson, Standard Correlation Coefficient\n",
    "    \n",
    "plt.figure(figsize=(15,10))\n",
    "seaborn.heatmap(df_corr, cmap=\"YlGnBu\") # Displaying the Heatmap\n",
    "seaborn.set(font_scale=2,style='white')\n",
    "\n",
    "plt.title('Heatmap correlation')\n",
    "plt.show()\n",
    "    "
   ]
  },
  {
   "cell_type": "code",
   "execution_count": 51,
   "metadata": {},
   "outputs": [],
   "source": [
    "rank = df_corr['Class'] # Retrieving the correlation coefficients per feature in relation to the feature class\n",
    "df_rank = pd.DataFrame(rank) \n",
    "df_rank = np.abs(df_rank).sort_values(by='Class',ascending=False) # Ranking the absolute values of the coefficients\n",
    "                                                                  # in descending order\n",
    "df_rank.dropna(inplace=True) # Removing Missing Data (not a number)\n"
   ]
  },
  {
   "cell_type": "code",
   "execution_count": 53,
   "metadata": {},
   "outputs": [
    {
     "data": {
      "text/html": [
       "<div>\n",
       "<style scoped>\n",
       "    .dataframe tbody tr th:only-of-type {\n",
       "        vertical-align: middle;\n",
       "    }\n",
       "\n",
       "    .dataframe tbody tr th {\n",
       "        vertical-align: top;\n",
       "    }\n",
       "\n",
       "    .dataframe thead th {\n",
       "        text-align: right;\n",
       "    }\n",
       "</style>\n",
       "<table border=\"1\" class=\"dataframe\">\n",
       "  <thead>\n",
       "    <tr style=\"text-align: right;\">\n",
       "      <th></th>\n",
       "      <th>Class</th>\n",
       "    </tr>\n",
       "  </thead>\n",
       "  <tbody>\n",
       "    <tr>\n",
       "      <th>Class</th>\n",
       "      <td>1.000000</td>\n",
       "    </tr>\n",
       "    <tr>\n",
       "      <th>V17</th>\n",
       "      <td>0.326481</td>\n",
       "    </tr>\n",
       "    <tr>\n",
       "      <th>V14</th>\n",
       "      <td>0.302544</td>\n",
       "    </tr>\n",
       "    <tr>\n",
       "      <th>V12</th>\n",
       "      <td>0.260593</td>\n",
       "    </tr>\n",
       "    <tr>\n",
       "      <th>V10</th>\n",
       "      <td>0.216883</td>\n",
       "    </tr>\n",
       "    <tr>\n",
       "      <th>V16</th>\n",
       "      <td>0.196539</td>\n",
       "    </tr>\n",
       "    <tr>\n",
       "      <th>V3</th>\n",
       "      <td>0.192961</td>\n",
       "    </tr>\n",
       "    <tr>\n",
       "      <th>V7</th>\n",
       "      <td>0.187257</td>\n",
       "    </tr>\n",
       "    <tr>\n",
       "      <th>V11</th>\n",
       "      <td>0.154876</td>\n",
       "    </tr>\n",
       "    <tr>\n",
       "      <th>V4</th>\n",
       "      <td>0.133447</td>\n",
       "    </tr>\n",
       "  </tbody>\n",
       "</table>\n",
       "</div>"
      ],
      "text/plain": [
       "          Class\n",
       "Class  1.000000\n",
       "V17    0.326481\n",
       "V14    0.302544\n",
       "V12    0.260593\n",
       "V10    0.216883\n",
       "V16    0.196539\n",
       "V3     0.192961\n",
       "V7     0.187257\n",
       "V11    0.154876\n",
       "V4     0.133447"
      ]
     },
     "execution_count": 53,
     "metadata": {},
     "output_type": "execute_result"
    }
   ],
   "source": [
    "df_rank.head(10)\n",
    "\n"
   ]
  },
  {
   "cell_type": "markdown",
   "metadata": {},
   "source": [
    "## Data selection"
   ]
  },
  {
   "cell_type": "markdown",
   "metadata": {},
   "source": [
    "**OVERSAMPLING**\n",
    "\n",
    "One way to do oversampling is to replicate the under-represented class tuples until we attain a correct proportion between the class\n",
    "\n",
    "However as we haven't infinite time nor the patience, we are going to run the classifier with the undersampled training data (for those using the undersampling principle if results are really bad just rerun the training dataset definition)\n",
    "\n",
    "**UNDERSAMPLING**"
   ]
  },
  {
   "cell_type": "code",
   "execution_count": 58,
   "metadata": {},
   "outputs": [
    {
     "name": "stdout",
     "output_type": "stream",
     "text": [
      "In this dataset, we have 293 frauds so we need to take a similar number of non-fraud\n"
     ]
    }
   ],
   "source": [
    "\n",
    "# We seperate ours data in two groups : a train dataset and a test dataset\n",
    "\n",
    "# First we build our train dataset\n",
    "df_train_all = df[0:150000] # We cut in two the original dataset\n",
    "df_train_1 = df_train_all[df_train_all['Class'] == 1] # We seperate the data which are the frauds and the no frauds\n",
    "df_train_0 = df_train_all[df_train_all['Class'] == 0]\n",
    "print('In this dataset, we have ' + str(len(df_train_1)) +\" frauds so we need to take a similar number of non-fraud\")\n",
    "\n",
    "df_sample=df_train_0.sample(300)\n",
    "df_train = df_train_1.append(df_sample) # We gather the frauds with the no frauds. \n",
    "df_train = df_train.sample(frac=1) # Then we mix our dataset"
   ]
  },
  {
   "cell_type": "code",
   "execution_count": 59,
   "metadata": {},
   "outputs": [],
   "source": [
    "X_train = df_train.drop(['Time', 'Class'],axis=1) # We drop the features Time (useless), and the Class (label)\n",
    "y_train = df_train['Class'] # We create our label\n",
    "X_train = np.asarray(X_train)\n",
    "y_train = np.asarray(y_train)"
   ]
  },
  {
   "cell_type": "code",
   "execution_count": 60,
   "metadata": {},
   "outputs": [
    {
     "name": "stdout",
     "output_type": "stream",
     "text": [
      "[[-3.21895201e+00  2.70853541e+00 -3.26304159e+00 ... -3.10518998e-01\n",
      "  -7.45294627e-01  6.06000000e+01]\n",
      " [ 1.00199172e+00  4.79383803e-02 -3.49001552e-01 ...  4.66270924e-02\n",
      "   6.46983544e-02  1.05990000e+02]\n",
      " [ 2.58380103e-02 -1.91661649e+00  2.28797272e-01 ... -1.29336776e-01\n",
      "   1.34369140e-01  6.29260000e+02]\n",
      " ...\n",
      " [-1.92745282e+00  1.82762057e+00 -7.01949468e+00 ...  1.27770726e+00\n",
      "   8.19081152e-01  5.12250000e+02]\n",
      " [-5.68501342e+00  5.77651621e+00 -7.06497673e+00 ...  3.03444582e-01\n",
      "   2.19380439e-01  1.11700000e+02]\n",
      " [-6.12087887e-01  5.68390278e-01  1.20745004e+00 ...  1.26115494e-01\n",
      "   9.75007866e-02  1.00000000e+00]]\n"
     ]
    }
   ],
   "source": [
    "print(X_train)"
   ]
  },
  {
   "cell_type": "code",
   "execution_count": 62,
   "metadata": {},
   "outputs": [
    {
     "name": "stdout",
     "output_type": "stream",
     "text": [
      "[1 1 0 1 0 0 0 0 1 1 1 1 0 1 1 1 0 1 1 0 0 1 1 1 0 0 0 0 1 0 0 0 0 0 0 0 1\n",
      " 0 0 1 1 1 1 1 1 1 0 0 0 0 1 1 1 1 0 1 0 0 1 0 0 0 0 1 1 0 0 0 0 0 1 0 0 1\n",
      " 1 1 1 0 1 0 1 0 0 0 0 1 1 1 1 1 1 1 1 1 1 0 0 1 1 0 0 1 1 0 0 0 0 1 0 1 0\n",
      " 0 0 1 0 1 1 1 0 0 0 0 1 1 1 0 0 1 0 0 1 1 0 1 0 0 0 0 0 1 1 0 1 0 0 0 1 0\n",
      " 1 0 0 0 0 0 0 1 1 0 0 1 0 1 0 1 1 1 0 0 0 0 0 0 0 1 1 1 1 1 0 1 1 0 0 0 0\n",
      " 0 0 0 0 1 1 0 0 1 0 1 0 1 1 0 0 0 0 0 1 1 1 1 1 0 1 1 1 1 0 1 1 0 1 1 0 1\n",
      " 1 0 1 0 1 1 1 0 1 1 1 1 0 1 0 0 0 0 0 0 0 0 1 0 1 0 0 0 0 1 1 0 1 0 1 0 0\n",
      " 0 0 1 0 0 1 1 1 0 0 0 0 1 0 0 0 0 0 1 1 0 1 0 0 1 1 1 0 0 0 0 0 0 0 1 0 1\n",
      " 1 1 1 1 0 1 0 1 1 0 1 0 0 0 1 1 1 0 0 0 1 1 0 0 1 1 0 0 0 1 0 0 1 1 1 1 0\n",
      " 0 0 0 1 0 0 0 1 0 1 0 1 0 1 1 1 1 1 1 1 0 0 0 0 0 0 0 1 1 0 0 0 0 1 1 0 1\n",
      " 1 1 0 1 1 0 0 0 1 0 0 0 0 1 1 0 0 1 0 1 0 1 0 1 1 1 0 1 0 0 0 0 1 1 1 0 1\n",
      " 1 0 0 1 0 1 0 1 1 0 1 0 1 0 1 0 1 0 1 0 0 1 1 1 1 0 1 1 1 0 0 0 1 0 0 0 1\n",
      " 0 0 0 1 1 1 1 0 1 1 1 0 1 1 0 0 0 0 0 0 0 1 1 0 0 1 1 1 1 0 1 0 0 0 1 0 1\n",
      " 1 1 1 1 0 0 0 1 1 1 1 1 1 1 0 1 1 0 0 0 1 1 1 1 1 1 0 1 0 0 0 1 1 0 0 1 0\n",
      " 1 1 1 0 0 1 0 1 0 1 1 1 1 1 1 1 1 1 1 1 1 0 1 0 0 1 0 1 1 1 0 0 1 1 1 1 1\n",
      " 0 1 1 0 1 1 0 0 1 0 0 0 1 1 1 0 1 0 1 1 0 1 0 0 0 1 0 0 0 0 0 1 1 0 1 1 1\n",
      " 0]\n"
     ]
    }
   ],
   "source": [
    "print(y_train)"
   ]
  },
  {
   "cell_type": "code",
   "execution_count": 63,
   "metadata": {},
   "outputs": [],
   "source": [
    "############################## with all the test dataset to see if the model learn correctly ##################\n",
    "df_test_all = df[150000:]\n",
    "\n",
    "X_test_all = df_test_all.drop(['Time', 'Class'],axis=1)\n",
    "y_test_all = df_test_all['Class']\n",
    "X_test_all = np.asarray(X_test_all)\n",
    "y_test_all = np.asarray(y_test_all)"
   ]
  },
  {
   "cell_type": "markdown",
   "metadata": {},
   "source": [
    "Then we define training and testing set after applying a dimension reduction to illustrate the fact that nothing will be gained because a PCA was previously computed"
   ]
  },
  {
   "cell_type": "code",
   "execution_count": 64,
   "metadata": {},
   "outputs": [],
   "source": [
    "X_train_rank = df_train[df_rank.index[1:11]] # We take the first ten ranked features\n",
    "X_train_rank = np.asarray(X_train_rank)"
   ]
  },
  {
   "cell_type": "code",
   "execution_count": 65,
   "metadata": {},
   "outputs": [],
   "source": [
    "############################## with all the test dataset to see if the model learn correctly ##################\n",
    "X_test_all_rank = df_test_all[df_rank.index[1:11]]\n",
    "X_test_all_rank = np.asarray(X_test_all_rank)\n",
    "y_test_all = np.asarray(y_test_all)"
   ]
  },
  {
   "cell_type": "markdown",
   "metadata": {},
   "source": [
    "## Confusion Matrix"
   ]
  },
  {
   "cell_type": "code",
   "execution_count": 66,
   "metadata": {},
   "outputs": [],
   "source": [
    "class_names=np.array(['0','1']) # Binary label, Class = 1 (fraud) and Class = 0 (no fraud)"
   ]
  },
  {
   "cell_type": "code",
   "execution_count": 68,
   "metadata": {},
   "outputs": [],
   "source": [
    "# Function to plot the confusion Matrix\n",
    "def plot_confusion_matrix(cm, classes,\n",
    "                          title='Confusion matrix',\n",
    "                          cmap=plt.cm.Blues):\n",
    "    \n",
    "    plt.imshow(cm, interpolation='nearest', cmap=cmap)\n",
    "    plt.title(title)\n",
    "    plt.colorbar()\n",
    "    tick_marks = np.arange(len(classes))\n",
    "    plt.xticks(tick_marks, classes, rotation=45)\n",
    "    plt.yticks(tick_marks, classes)\n",
    "\n",
    "    fmt = 'd' \n",
    "    thresh = cm.max() / 2.\n",
    "    for i, j in itertools.product(range(cm.shape[0]), range(cm.shape[1])):\n",
    "        plt.text(j, i, format(cm[i, j], fmt),\n",
    "                 horizontalalignment=\"center\",\n",
    "                 color=\"white\" if cm[i, j] > thresh else \"black\")\n",
    "\n",
    "    plt.tight_layout()\n",
    "    plt.ylabel('True label')\n",
    "    plt.xlabel('Predicted label')"
   ]
  },
  {
   "cell_type": "markdown",
   "metadata": {},
   "source": [
    "# Model Selection\n",
    "\n",
    "So now, we'll use a SVM model classifier, with the scikit-learn library."
   ]
  },
  {
   "cell_type": "code",
   "execution_count": 72,
   "metadata": {},
   "outputs": [],
   "source": [
    "classifier = svm.SVC(kernel='linear') # We set a SVM classifier, the default SVM Classifier (Kernel = Radial Basis Function)"
   ]
  },
  {
   "cell_type": "code",
   "execution_count": 73,
   "metadata": {},
   "outputs": [
    {
     "data": {
      "text/plain": [
       "SVC(C=1.0, cache_size=200, class_weight=None, coef0=0.0,\n",
       "  decision_function_shape='ovr', degree=3, gamma='auto', kernel='linear',\n",
       "  max_iter=-1, probability=False, random_state=None, shrinking=True,\n",
       "  tol=0.001, verbose=False)"
      ]
     },
     "execution_count": 73,
     "metadata": {},
     "output_type": "execute_result"
    }
   ],
   "source": [
    "classifier.fit(X_train, y_train)"
   ]
  },
  {
   "cell_type": "markdown",
   "metadata": {},
   "source": [
    "# Testing the model"
   ]
  },
  {
   "cell_type": "code",
   "execution_count": 75,
   "metadata": {},
   "outputs": [],
   "source": [
    "prediction_SVM_all = classifier.predict(X_test_all) #And finally, we predict our data test."
   ]
  },
  {
   "cell_type": "code",
   "execution_count": 76,
   "metadata": {},
   "outputs": [
    {
     "data": {
      "image/png": "[encoded data removed]",
      "text/plain": [
       "<Figure size 432x288 with 2 Axes>"
      ]
     },
     "metadata": {},
     "output_type": "display_data"
    }
   ],
   "source": [
    "cm = confusion_matrix(y_test_all, prediction_SVM_all)\n",
    "plot_confusion_matrix(cm,class_names)"
   ]
  },
  {
   "cell_type": "markdown",
   "metadata": {},
   "source": [
    "In this case we are gonna try to minimize the number of errors in our prediction results. Errors are on the anti-diagonal of the confusion matrix. But we can infer that being wrong about an actual fraud is far worse than being wrong about a non-fraud transaction.\n",
    "\n",
    "That is why using the accuracy as only classification criterion could be considered unthoughtful. During the remaining part of this study our criterion will consider precision on the real fraud 4 times more important than the general accuracy. Even though the final tested result is accuracy.\n",
    "\n"
   ]
  },
  {
   "cell_type": "code",
   "execution_count": 77,
   "metadata": {},
   "outputs": [
    {
     "name": "stdout",
     "output_type": "stream",
     "text": [
      "Our criterion give a result of 0.9232977292345697\n"
     ]
    }
   ],
   "source": [
    "print('Our criterion give a result of ' \n",
    "      + str( ( (cm[0][0]+cm[1][1]) / (sum(cm[0]) + sum(cm[1])) + 4 * cm[1][1]/(cm[1][0]+cm[1][1])) / 5))"
   ]
  },
  {
   "cell_type": "code",
   "execution_count": 78,
   "metadata": {},
   "outputs": [
    {
     "name": "stdout",
     "output_type": "stream",
     "text": [
      "We have detected 183 frauds / 199 total frauds.\n",
      "\n",
      "So, the probability to detect a fraud is 0.9195979899497487\n",
      "the accuracy is : 0.938096686373853\n"
     ]
    }
   ],
   "source": [
    "print('We have detected ' + str(cm[1][1]) + ' frauds / ' + str(cm[1][1]+cm[1][0]) + ' total frauds.')\n",
    "print('\\nSo, the probability to detect a fraud is ' + str(cm[1][1]/(cm[1][1]+cm[1][0])))\n",
    "print(\"the accuracy is : \"+str((cm[0][0]+cm[1][1]) / (sum(cm[0]) + sum(cm[1]))))\n"
   ]
  },
  {
   "cell_type": "markdown",
   "metadata": {},
   "source": [
    "# Models Rank\n",
    "There is a need to compute the fit method again, as the dimension of the tuples to predict went from 29 to 10 because of the dimension reduction"
   ]
  },
  {
   "cell_type": "code",
   "execution_count": 80,
   "metadata": {},
   "outputs": [],
   "source": [
    "classifier.fit(X_train_rank, y_train) # Then we train our model, with our balanced data train.\n",
    "prediction_SVM = classifier.predict(X_test_all_rank) #And finally, we predict our data test."
   ]
  },
  {
   "cell_type": "code",
   "execution_count": 81,
   "metadata": {},
   "outputs": [
    {
     "data": {
      "image/png": "[encoded data removed]",
      "text/plain": [
       "<Figure size 432x288 with 2 Axes>"
      ]
     },
     "metadata": {},
     "output_type": "display_data"
    }
   ],
   "source": [
    "cm = confusion_matrix(y_test_all, prediction_SVM)\n",
    "plot_confusion_matrix(cm,class_names)"
   ]
  },
  {
   "cell_type": "code",
   "execution_count": 82,
   "metadata": {},
   "outputs": [
    {
     "name": "stdout",
     "output_type": "stream",
     "text": [
      "Our criterion give a result of 0.9289650907217327\n"
     ]
    }
   ],
   "source": [
    "print('Our criterion give a result of ' \n",
    "      + str( ( (cm[0][0]+cm[1][1]) / (sum(cm[0]) + sum(cm[1])) + 4 * cm[1][1]/(cm[1][0]+cm[1][1])) / 5))"
   ]
  },
  {
   "cell_type": "code",
   "execution_count": 83,
   "metadata": {},
   "outputs": [
    {
     "name": "stdout",
     "output_type": "stream",
     "text": [
      "We have detected 183 frauds / 199 total frauds.\n",
      "\n",
      "So, the probability to detect a fraud is 0.9195979899497487\n",
      "the accuracy is : 0.9664334938096686\n"
     ]
    }
   ],
   "source": [
    "print('We have detected ' + str(cm[1][1]) + ' frauds / ' + str(cm[1][1]+cm[1][0]) + ' total frauds.')\n",
    "print('\\nSo, the probability to detect a fraud is ' + str(cm[1][1]/(cm[1][1]+cm[1][0])))\n",
    "print(\"the accuracy is : \"+str((cm[0][0]+cm[1][1]) / (sum(cm[0]) + sum(cm[1]))))"
   ]
  },
  {
   "cell_type": "markdown",
   "metadata": {},
   "source": [
    "We can see that the study using the reduced data is far from unrelevant, which means that the last step of the previously computed PCA could have been done in a more efficient way. Indeed one of the main question we have with the PCA once we calculated the principals components direction, is how many of this component are we gonna keep. This means that some of the 30 dimensions are do not discriminate classes that much"
   ]
  },
  {
   "cell_type": "markdown",
   "metadata": {},
   "source": [
    "# Re-balanced class weigh :\n",
    "In this previously used SVM model, the weigh of each class was the same, which means that missing a fraud is as bad as misjudging a non-fraud. The objective, for a bank, is to maximize the number of detected frauds! Even if it means considering more non-fraud tuple as fraudulent operation. So, we need to minimize the False positives : the number of no detected frauds.\n",
    "\n",
    "Indeed, by modifying the class_weight parameter, we can chose which class to give more importance during the training phase. In this case, the class_1 which describes the fraudulent operations will be considered more important than the class_0 (non-fraud operation). However, in this case we will give more importance to the class_0 due to the large number of misclassed non-fraud operation. Of course the goal is to lose as little effective fraud as possible in the process."
   ]
  },
  {
   "cell_type": "code",
   "execution_count": 86,
   "metadata": {},
   "outputs": [],
   "source": [
    "classifier_b = svm.SVC(kernel='linear',class_weight={0:0.60, 1:0.40})"
   ]
  },
  {
   "cell_type": "code",
   "execution_count": 87,
   "metadata": {},
   "outputs": [
    {
     "data": {
      "text/plain": [
       "SVC(C=1.0, cache_size=200, class_weight={0: 0.6, 1: 0.4}, coef0=0.0,\n",
       "  decision_function_shape='ovr', degree=3, gamma='auto', kernel='linear',\n",
       "  max_iter=-1, probability=False, random_state=None, shrinking=True,\n",
       "  tol=0.001, verbose=False)"
      ]
     },
     "execution_count": 87,
     "metadata": {},
     "output_type": "execute_result"
    }
   ],
   "source": [
    "classifier_b.fit(X_train, y_train) # Then we train our model, with our balanced data train."
   ]
  },
  {
   "cell_type": "markdown",
   "metadata": {},
   "source": [
    "# Testing the model"
   ]
  },
  {
   "cell_type": "code",
   "execution_count": 88,
   "metadata": {},
   "outputs": [],
   "source": [
    "prediction_SVM_b_all = classifier_b.predict(X_test_all) #We predict all the data set."
   ]
  },
  {
   "cell_type": "code",
   "execution_count": 89,
   "metadata": {},
   "outputs": [
    {
     "data": {
      "image/png": "[encoded data removed]",
      "text/plain": [
       "<Figure size 432x288 with 2 Axes>"
      ]
     },
     "metadata": {},
     "output_type": "display_data"
    }
   ],
   "source": [
    "cm = confusion_matrix(y_test_all, prediction_SVM_b_all)\n",
    "plot_confusion_matrix(cm,class_names)\n"
   ]
  },
  {
   "cell_type": "code",
   "execution_count": 90,
   "metadata": {},
   "outputs": [
    {
     "name": "stdout",
     "output_type": "stream",
     "text": [
      "Our criterion give a result of 0.9191757223886015\n"
     ]
    }
   ],
   "source": [
    "print('Our criterion give a result of ' \n",
    "      + str( ( (cm[0][0]+cm[1][1]) / (sum(cm[0]) + sum(cm[1])) + 4 * cm[1][1]/(cm[1][0]+cm[1][1])) / 5))"
   ]
  },
  {
   "cell_type": "code",
   "execution_count": 91,
   "metadata": {},
   "outputs": [
    {
     "name": "stdout",
     "output_type": "stream",
     "text": [
      "We have detected 181 frauds / 199 total frauds.\n",
      "\n",
      "So, the probability to detect a fraud is 0.9095477386934674\n",
      "the accuracy is : 0.9576876571691381\n"
     ]
    }
   ],
   "source": [
    "print('We have detected ' + str(cm[1][1]) + ' frauds / ' + str(cm[1][1]+cm[1][0]) + ' total frauds.')\n",
    "print('\\nSo, the probability to detect a fraud is ' + str(cm[1][1]/(cm[1][1]+cm[1][0])))\n",
    "print(\"the accuracy is : \"+str((cm[0][0]+cm[1][1]) / (sum(cm[0]) + sum(cm[1]))))"
   ]
  },
  {
   "cell_type": "markdown",
   "metadata": {},
   "source": [
    "# Models Rank"
   ]
  },
  {
   "cell_type": "code",
   "execution_count": 93,
   "metadata": {},
   "outputs": [],
   "source": [
    "classifier_b.fit(X_train_rank, y_train) # Then we train our model, with our balanced data train.\n",
    "prediction_SVM = classifier_b.predict(X_test_all_rank) #And finally, we predict our data test.\n"
   ]
  },
  {
   "cell_type": "code",
   "execution_count": 94,
   "metadata": {},
   "outputs": [
    {
     "data": {
      "image/png": "[encoded data removed]",
      "text/plain": [
       "<Figure size 432x288 with 2 Axes>"
      ]
     },
     "metadata": {},
     "output_type": "display_data"
    }
   ],
   "source": [
    "cm = confusion_matrix(y_test_all, prediction_SVM)\n",
    "plot_confusion_matrix(cm,class_names)"
   ]
  },
  {
   "cell_type": "code",
   "execution_count": 95,
   "metadata": {},
   "outputs": [
    {
     "name": "stdout",
     "output_type": "stream",
     "text": [
      "Our criterion give a result of 0.9145537415056768\n"
     ]
    }
   ],
   "source": [
    "print('Our criterion give a result of ' \n",
    "      + str( ( (cm[0][0]+cm[1][1]) / (sum(cm[0]) + sum(cm[1])) + 4 * cm[1][1]/(cm[1][0]+cm[1][1])) / 5))\n"
   ]
  },
  {
   "cell_type": "code",
   "execution_count": 96,
   "metadata": {},
   "outputs": [
    {
     "name": "stdout",
     "output_type": "stream",
     "text": [
      "We have detected 179 frauds / 199 total frauds.\n",
      "\n",
      "So, the probability to detect a fraud is 0.8994974874371859\n",
      "the accuracy is : 0.9747787577796405\n"
     ]
    }
   ],
   "source": [
    "print('We have detected ' + str(cm[1][1]) + ' frauds / ' + str(cm[1][1]+cm[1][0]) + ' total frauds.')\n",
    "print('\\nSo, the probability to detect a fraud is ' + str(cm[1][1]/(cm[1][1]+cm[1][0])))\n",
    "print(\"the accuracy is : \"+str((cm[0][0]+cm[1][1]) / (sum(cm[0]) + sum(cm[1]))))"
   ]
  },
  {
   "cell_type": "code",
   "execution_count": null,
   "metadata": {},
   "outputs": [],
   "source": []
  }
 ],
 "metadata": {
  "kernelspec": {
   "display_name": "Python 3",
   "language": "python",
   "name": "python3"
  },
  "language_info": {
   "codemirror_mode": {
    "name": "ipython",
    "version": 3
   },
   "file_extension": ".py",
   "mimetype": "text/x-python",
   "name": "python",
   "nbconvert_exporter": "python",
   "pygments_lexer": "ipython3",
   "version": "3.6.5"
  }
 },
 "nbformat": 4,
 "nbformat_minor": 2
}
